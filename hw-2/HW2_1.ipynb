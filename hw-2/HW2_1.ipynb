{
 "cells": [
  {
   "cell_type": "markdown",
   "metadata": {
    "id": "sGmk_6KEVbbB"
   },
   "source": [
    "В качестве домашнего задания вам предлагается поработать над предсказанием погоды. Файл с данными вы найдете в соответствующей директории. Вам будет доступен датасет weather.csv, ПЕРВЫЕ 75% (shuffle = False) которого нужно взять для обучения, последние 25% - для тестирования.\n",
    "\n",
    "Требуется построить 4 модели которые будут предсказывать целевую переменную <b>RainTomorrow</b> с помощью:\n",
    "\n",
    "   1. логистической регрессии [sklearn.linear_model.LogisticRegression](https://scikit-learn.org/stable/modules/generated/sklearn.linear_model.LogisticRegression.html#sklearn.linear_model.LogisticRegression)\n",
    "   \n",
    "   2. метода ближайших соседей [sklearn.neighbors](https://scikit-learn.org/stable/modules/neighbors.html)\n",
    " \n",
    "   3. Байесовского классификатора [sklearn.naive_bayes](https://scikit-learn.org/stable/modules/naive_bayes.html)\n",
    "   \n",
    "   4. логистической регрессии реализованной самостоятельно\n",
    "\n",
    "Затем следует сравнить результаты моделей (по качеству и времени выполнения) и сделать вывод о том, какая модель и с какими параметрами даёт лучшие результаты.\n",
    "\n",
    "Не забывайте о том, что работа с признаками играет очень большую роль в построении хорошей модели.\n",
    "\n",
    "Краткое описание данных:\n",
    "\n",
    "    Date - Дата наблюдений\n",
    "    Location - Название локации, в которой расположена метеорологическая станция\n",
    "    MinTemp - Минимальная температура в градусах цельсия\n",
    "    MaxTemp - Максимальная температура в градусах цельсия\n",
    "    Rainfall - Количество осадков, зафиксированных за день в мм\n",
    "    Evaporation - Так называемое \"pan evaporation\" класса А (мм) за 24 часа до 9 утра\n",
    "    Sunshine - Число солнечных часов за день\n",
    "    WindGustDir - направление самого сильного порыва ветра за последние 24 часа\n",
    "    WindGustSpeed - скорость (км / ч) самого сильного порыва ветра за последние 24 часа\n",
    "    WindDir9am - направление ветра в 9 утра"
   ]
  },
  {
   "cell_type": "code",
   "execution_count": 6,
   "metadata": {
    "id": "AB6YZNTVVbbF",
    "scrolled": true
   },
   "outputs": [],
   "source": [
    "import warnings\n",
    "warnings.filterwarnings(\"ignore\")\n",
    "import pandas as pd\n",
    "import numpy as np\n",
    "import seaborn as sns\n",
    "import time\n",
    "from sklearn.datasets import make_classification\n",
    "import matplotlib.pyplot as plt\n",
    "%matplotlib notebook"
   ]
  },
  {
   "cell_type": "code",
   "execution_count": 7,
   "metadata": {
    "id": "gZ2fBLrMVbbG"
   },
   "outputs": [],
   "source": [
    "X = pd.read_csv('weather.csv')"
   ]
  },
  {
   "cell_type": "code",
   "execution_count": 8,
   "metadata": {
    "colab": {
     "base_uri": "https://localhost:8080/",
     "height": 861
    },
    "id": "eSN4260KVbbH",
    "outputId": "c9d68fae-8c30-4f57-ebe0-22bc26fcc778",
    "scrolled": false
   },
   "outputs": [
    {
     "data": {
      "text/html": [
       "<div>\n",
       "<style scoped>\n",
       "    .dataframe tbody tr th:only-of-type {\n",
       "        vertical-align: middle;\n",
       "    }\n",
       "\n",
       "    .dataframe tbody tr th {\n",
       "        vertical-align: top;\n",
       "    }\n",
       "\n",
       "    .dataframe thead th {\n",
       "        text-align: right;\n",
       "    }\n",
       "</style>\n",
       "<table border=\"1\" class=\"dataframe\">\n",
       "  <thead>\n",
       "    <tr style=\"text-align: right;\">\n",
       "      <th></th>\n",
       "      <th>Unnamed: 0</th>\n",
       "      <th>Date</th>\n",
       "      <th>Location</th>\n",
       "      <th>MinTemp</th>\n",
       "      <th>MaxTemp</th>\n",
       "      <th>Rainfall</th>\n",
       "      <th>Evaporation</th>\n",
       "      <th>Sunshine</th>\n",
       "      <th>WindGustDir</th>\n",
       "      <th>WindGustSpeed</th>\n",
       "      <th>...</th>\n",
       "      <th>Humidity9am</th>\n",
       "      <th>Humidity3pm</th>\n",
       "      <th>Pressure9am</th>\n",
       "      <th>Pressure3pm</th>\n",
       "      <th>Cloud9am</th>\n",
       "      <th>Cloud3pm</th>\n",
       "      <th>Temp9am</th>\n",
       "      <th>Temp3pm</th>\n",
       "      <th>RainToday</th>\n",
       "      <th>RainTomorrow</th>\n",
       "    </tr>\n",
       "  </thead>\n",
       "  <tbody>\n",
       "    <tr>\n",
       "      <th>0</th>\n",
       "      <td>0</td>\n",
       "      <td>2008-12-01</td>\n",
       "      <td>Albury</td>\n",
       "      <td>13.4</td>\n",
       "      <td>22.9</td>\n",
       "      <td>0.6</td>\n",
       "      <td>NaN</td>\n",
       "      <td>NaN</td>\n",
       "      <td>W</td>\n",
       "      <td>44.0</td>\n",
       "      <td>...</td>\n",
       "      <td>71.0</td>\n",
       "      <td>22.0</td>\n",
       "      <td>1007.7</td>\n",
       "      <td>1007.1</td>\n",
       "      <td>8.0</td>\n",
       "      <td>NaN</td>\n",
       "      <td>16.9</td>\n",
       "      <td>21.8</td>\n",
       "      <td>No</td>\n",
       "      <td>No</td>\n",
       "    </tr>\n",
       "    <tr>\n",
       "      <th>1</th>\n",
       "      <td>1</td>\n",
       "      <td>2008-12-02</td>\n",
       "      <td>Albury</td>\n",
       "      <td>7.4</td>\n",
       "      <td>25.1</td>\n",
       "      <td>0.0</td>\n",
       "      <td>NaN</td>\n",
       "      <td>NaN</td>\n",
       "      <td>WNW</td>\n",
       "      <td>44.0</td>\n",
       "      <td>...</td>\n",
       "      <td>44.0</td>\n",
       "      <td>25.0</td>\n",
       "      <td>1010.6</td>\n",
       "      <td>1007.8</td>\n",
       "      <td>NaN</td>\n",
       "      <td>NaN</td>\n",
       "      <td>17.2</td>\n",
       "      <td>24.3</td>\n",
       "      <td>No</td>\n",
       "      <td>No</td>\n",
       "    </tr>\n",
       "    <tr>\n",
       "      <th>2</th>\n",
       "      <td>2</td>\n",
       "      <td>2008-12-03</td>\n",
       "      <td>Albury</td>\n",
       "      <td>12.9</td>\n",
       "      <td>25.7</td>\n",
       "      <td>0.0</td>\n",
       "      <td>NaN</td>\n",
       "      <td>NaN</td>\n",
       "      <td>WSW</td>\n",
       "      <td>46.0</td>\n",
       "      <td>...</td>\n",
       "      <td>38.0</td>\n",
       "      <td>30.0</td>\n",
       "      <td>1007.6</td>\n",
       "      <td>1008.7</td>\n",
       "      <td>NaN</td>\n",
       "      <td>2.0</td>\n",
       "      <td>21.0</td>\n",
       "      <td>23.2</td>\n",
       "      <td>No</td>\n",
       "      <td>No</td>\n",
       "    </tr>\n",
       "    <tr>\n",
       "      <th>3</th>\n",
       "      <td>3</td>\n",
       "      <td>2008-12-04</td>\n",
       "      <td>Albury</td>\n",
       "      <td>9.2</td>\n",
       "      <td>28.0</td>\n",
       "      <td>0.0</td>\n",
       "      <td>NaN</td>\n",
       "      <td>NaN</td>\n",
       "      <td>NE</td>\n",
       "      <td>24.0</td>\n",
       "      <td>...</td>\n",
       "      <td>45.0</td>\n",
       "      <td>16.0</td>\n",
       "      <td>1017.6</td>\n",
       "      <td>1012.8</td>\n",
       "      <td>NaN</td>\n",
       "      <td>NaN</td>\n",
       "      <td>18.1</td>\n",
       "      <td>26.5</td>\n",
       "      <td>No</td>\n",
       "      <td>No</td>\n",
       "    </tr>\n",
       "    <tr>\n",
       "      <th>4</th>\n",
       "      <td>4</td>\n",
       "      <td>2008-12-05</td>\n",
       "      <td>Albury</td>\n",
       "      <td>17.5</td>\n",
       "      <td>32.3</td>\n",
       "      <td>1.0</td>\n",
       "      <td>NaN</td>\n",
       "      <td>NaN</td>\n",
       "      <td>W</td>\n",
       "      <td>41.0</td>\n",
       "      <td>...</td>\n",
       "      <td>82.0</td>\n",
       "      <td>33.0</td>\n",
       "      <td>1010.8</td>\n",
       "      <td>1006.0</td>\n",
       "      <td>7.0</td>\n",
       "      <td>8.0</td>\n",
       "      <td>17.8</td>\n",
       "      <td>29.7</td>\n",
       "      <td>No</td>\n",
       "      <td>No</td>\n",
       "    </tr>\n",
       "    <tr>\n",
       "      <th>...</th>\n",
       "      <td>...</td>\n",
       "      <td>...</td>\n",
       "      <td>...</td>\n",
       "      <td>...</td>\n",
       "      <td>...</td>\n",
       "      <td>...</td>\n",
       "      <td>...</td>\n",
       "      <td>...</td>\n",
       "      <td>...</td>\n",
       "      <td>...</td>\n",
       "      <td>...</td>\n",
       "      <td>...</td>\n",
       "      <td>...</td>\n",
       "      <td>...</td>\n",
       "      <td>...</td>\n",
       "      <td>...</td>\n",
       "      <td>...</td>\n",
       "      <td>...</td>\n",
       "      <td>...</td>\n",
       "      <td>...</td>\n",
       "      <td>...</td>\n",
       "    </tr>\n",
       "    <tr>\n",
       "      <th>142188</th>\n",
       "      <td>145454</td>\n",
       "      <td>2017-06-20</td>\n",
       "      <td>Uluru</td>\n",
       "      <td>3.5</td>\n",
       "      <td>21.8</td>\n",
       "      <td>0.0</td>\n",
       "      <td>NaN</td>\n",
       "      <td>NaN</td>\n",
       "      <td>E</td>\n",
       "      <td>31.0</td>\n",
       "      <td>...</td>\n",
       "      <td>59.0</td>\n",
       "      <td>27.0</td>\n",
       "      <td>1024.7</td>\n",
       "      <td>1021.2</td>\n",
       "      <td>NaN</td>\n",
       "      <td>NaN</td>\n",
       "      <td>9.4</td>\n",
       "      <td>20.9</td>\n",
       "      <td>No</td>\n",
       "      <td>No</td>\n",
       "    </tr>\n",
       "    <tr>\n",
       "      <th>142189</th>\n",
       "      <td>145455</td>\n",
       "      <td>2017-06-21</td>\n",
       "      <td>Uluru</td>\n",
       "      <td>2.8</td>\n",
       "      <td>23.4</td>\n",
       "      <td>0.0</td>\n",
       "      <td>NaN</td>\n",
       "      <td>NaN</td>\n",
       "      <td>E</td>\n",
       "      <td>31.0</td>\n",
       "      <td>...</td>\n",
       "      <td>51.0</td>\n",
       "      <td>24.0</td>\n",
       "      <td>1024.6</td>\n",
       "      <td>1020.3</td>\n",
       "      <td>NaN</td>\n",
       "      <td>NaN</td>\n",
       "      <td>10.1</td>\n",
       "      <td>22.4</td>\n",
       "      <td>No</td>\n",
       "      <td>No</td>\n",
       "    </tr>\n",
       "    <tr>\n",
       "      <th>142190</th>\n",
       "      <td>145456</td>\n",
       "      <td>2017-06-22</td>\n",
       "      <td>Uluru</td>\n",
       "      <td>3.6</td>\n",
       "      <td>25.3</td>\n",
       "      <td>0.0</td>\n",
       "      <td>NaN</td>\n",
       "      <td>NaN</td>\n",
       "      <td>NNW</td>\n",
       "      <td>22.0</td>\n",
       "      <td>...</td>\n",
       "      <td>56.0</td>\n",
       "      <td>21.0</td>\n",
       "      <td>1023.5</td>\n",
       "      <td>1019.1</td>\n",
       "      <td>NaN</td>\n",
       "      <td>NaN</td>\n",
       "      <td>10.9</td>\n",
       "      <td>24.5</td>\n",
       "      <td>No</td>\n",
       "      <td>No</td>\n",
       "    </tr>\n",
       "    <tr>\n",
       "      <th>142191</th>\n",
       "      <td>145457</td>\n",
       "      <td>2017-06-23</td>\n",
       "      <td>Uluru</td>\n",
       "      <td>5.4</td>\n",
       "      <td>26.9</td>\n",
       "      <td>0.0</td>\n",
       "      <td>NaN</td>\n",
       "      <td>NaN</td>\n",
       "      <td>N</td>\n",
       "      <td>37.0</td>\n",
       "      <td>...</td>\n",
       "      <td>53.0</td>\n",
       "      <td>24.0</td>\n",
       "      <td>1021.0</td>\n",
       "      <td>1016.8</td>\n",
       "      <td>NaN</td>\n",
       "      <td>NaN</td>\n",
       "      <td>12.5</td>\n",
       "      <td>26.1</td>\n",
       "      <td>No</td>\n",
       "      <td>No</td>\n",
       "    </tr>\n",
       "    <tr>\n",
       "      <th>142192</th>\n",
       "      <td>145458</td>\n",
       "      <td>2017-06-24</td>\n",
       "      <td>Uluru</td>\n",
       "      <td>7.8</td>\n",
       "      <td>27.0</td>\n",
       "      <td>0.0</td>\n",
       "      <td>NaN</td>\n",
       "      <td>NaN</td>\n",
       "      <td>SE</td>\n",
       "      <td>28.0</td>\n",
       "      <td>...</td>\n",
       "      <td>51.0</td>\n",
       "      <td>24.0</td>\n",
       "      <td>1019.4</td>\n",
       "      <td>1016.5</td>\n",
       "      <td>3.0</td>\n",
       "      <td>2.0</td>\n",
       "      <td>15.1</td>\n",
       "      <td>26.0</td>\n",
       "      <td>No</td>\n",
       "      <td>No</td>\n",
       "    </tr>\n",
       "  </tbody>\n",
       "</table>\n",
       "<p>142193 rows × 24 columns</p>\n",
       "</div>"
      ],
      "text/plain": [
       "        Unnamed: 0        Date Location  MinTemp  MaxTemp  Rainfall  \\\n",
       "0                0  2008-12-01   Albury     13.4     22.9       0.6   \n",
       "1                1  2008-12-02   Albury      7.4     25.1       0.0   \n",
       "2                2  2008-12-03   Albury     12.9     25.7       0.0   \n",
       "3                3  2008-12-04   Albury      9.2     28.0       0.0   \n",
       "4                4  2008-12-05   Albury     17.5     32.3       1.0   \n",
       "...            ...         ...      ...      ...      ...       ...   \n",
       "142188      145454  2017-06-20    Uluru      3.5     21.8       0.0   \n",
       "142189      145455  2017-06-21    Uluru      2.8     23.4       0.0   \n",
       "142190      145456  2017-06-22    Uluru      3.6     25.3       0.0   \n",
       "142191      145457  2017-06-23    Uluru      5.4     26.9       0.0   \n",
       "142192      145458  2017-06-24    Uluru      7.8     27.0       0.0   \n",
       "\n",
       "        Evaporation  Sunshine WindGustDir  WindGustSpeed  ... Humidity9am  \\\n",
       "0               NaN       NaN           W           44.0  ...        71.0   \n",
       "1               NaN       NaN         WNW           44.0  ...        44.0   \n",
       "2               NaN       NaN         WSW           46.0  ...        38.0   \n",
       "3               NaN       NaN          NE           24.0  ...        45.0   \n",
       "4               NaN       NaN           W           41.0  ...        82.0   \n",
       "...             ...       ...         ...            ...  ...         ...   \n",
       "142188          NaN       NaN           E           31.0  ...        59.0   \n",
       "142189          NaN       NaN           E           31.0  ...        51.0   \n",
       "142190          NaN       NaN         NNW           22.0  ...        56.0   \n",
       "142191          NaN       NaN           N           37.0  ...        53.0   \n",
       "142192          NaN       NaN          SE           28.0  ...        51.0   \n",
       "\n",
       "       Humidity3pm  Pressure9am  Pressure3pm  Cloud9am  Cloud3pm  Temp9am  \\\n",
       "0             22.0       1007.7       1007.1       8.0       NaN     16.9   \n",
       "1             25.0       1010.6       1007.8       NaN       NaN     17.2   \n",
       "2             30.0       1007.6       1008.7       NaN       2.0     21.0   \n",
       "3             16.0       1017.6       1012.8       NaN       NaN     18.1   \n",
       "4             33.0       1010.8       1006.0       7.0       8.0     17.8   \n",
       "...            ...          ...          ...       ...       ...      ...   \n",
       "142188        27.0       1024.7       1021.2       NaN       NaN      9.4   \n",
       "142189        24.0       1024.6       1020.3       NaN       NaN     10.1   \n",
       "142190        21.0       1023.5       1019.1       NaN       NaN     10.9   \n",
       "142191        24.0       1021.0       1016.8       NaN       NaN     12.5   \n",
       "142192        24.0       1019.4       1016.5       3.0       2.0     15.1   \n",
       "\n",
       "        Temp3pm  RainToday  RainTomorrow  \n",
       "0          21.8         No            No  \n",
       "1          24.3         No            No  \n",
       "2          23.2         No            No  \n",
       "3          26.5         No            No  \n",
       "4          29.7         No            No  \n",
       "...         ...        ...           ...  \n",
       "142188     20.9         No            No  \n",
       "142189     22.4         No            No  \n",
       "142190     24.5         No            No  \n",
       "142191     26.1         No            No  \n",
       "142192     26.0         No            No  \n",
       "\n",
       "[142193 rows x 24 columns]"
      ]
     },
     "execution_count": 8,
     "metadata": {},
     "output_type": "execute_result"
    }
   ],
   "source": [
    "X"
   ]
  },
  {
   "cell_type": "code",
   "execution_count": 9,
   "metadata": {
    "id": "XngGdDFRVbbH"
   },
   "outputs": [],
   "source": [
    "y = X.RainTomorrow.replace({'No':0, 'Yes': 1})"
   ]
  },
  {
   "cell_type": "code",
   "execution_count": 10,
   "metadata": {
    "id": "30ZHSXORVbbH"
   },
   "outputs": [],
   "source": [
    "del X['RainTomorrow']"
   ]
  },
  {
   "cell_type": "code",
   "execution_count": 11,
   "metadata": {
    "colab": {
     "base_uri": "https://localhost:8080/",
     "height": 861
    },
    "id": "eSN4260KVbbH",
    "outputId": "c9d68fae-8c30-4f57-ebe0-22bc26fcc778",
    "scrolled": false
   },
   "outputs": [
    {
     "data": {
      "text/html": [
       "<div>\n",
       "<style scoped>\n",
       "    .dataframe tbody tr th:only-of-type {\n",
       "        vertical-align: middle;\n",
       "    }\n",
       "\n",
       "    .dataframe tbody tr th {\n",
       "        vertical-align: top;\n",
       "    }\n",
       "\n",
       "    .dataframe thead th {\n",
       "        text-align: right;\n",
       "    }\n",
       "</style>\n",
       "<table border=\"1\" class=\"dataframe\">\n",
       "  <thead>\n",
       "    <tr style=\"text-align: right;\">\n",
       "      <th></th>\n",
       "      <th>0</th>\n",
       "      <th>1</th>\n",
       "      <th>2</th>\n",
       "      <th>3</th>\n",
       "      <th>4</th>\n",
       "      <th>5</th>\n",
       "      <th>6</th>\n",
       "      <th>7</th>\n",
       "      <th>8</th>\n",
       "      <th>9</th>\n",
       "      <th>...</th>\n",
       "      <th>142183</th>\n",
       "      <th>142184</th>\n",
       "      <th>142185</th>\n",
       "      <th>142186</th>\n",
       "      <th>142187</th>\n",
       "      <th>142188</th>\n",
       "      <th>142189</th>\n",
       "      <th>142190</th>\n",
       "      <th>142191</th>\n",
       "      <th>142192</th>\n",
       "    </tr>\n",
       "  </thead>\n",
       "  <tbody>\n",
       "    <tr>\n",
       "      <th>Unnamed: 0</th>\n",
       "      <td>0</td>\n",
       "      <td>1</td>\n",
       "      <td>2</td>\n",
       "      <td>3</td>\n",
       "      <td>4</td>\n",
       "      <td>5</td>\n",
       "      <td>6</td>\n",
       "      <td>7</td>\n",
       "      <td>8</td>\n",
       "      <td>9</td>\n",
       "      <td>...</td>\n",
       "      <td>145449</td>\n",
       "      <td>145450</td>\n",
       "      <td>145451</td>\n",
       "      <td>145452</td>\n",
       "      <td>145453</td>\n",
       "      <td>145454</td>\n",
       "      <td>145455</td>\n",
       "      <td>145456</td>\n",
       "      <td>145457</td>\n",
       "      <td>145458</td>\n",
       "    </tr>\n",
       "    <tr>\n",
       "      <th>Date</th>\n",
       "      <td>2008-12-01</td>\n",
       "      <td>2008-12-02</td>\n",
       "      <td>2008-12-03</td>\n",
       "      <td>2008-12-04</td>\n",
       "      <td>2008-12-05</td>\n",
       "      <td>2008-12-06</td>\n",
       "      <td>2008-12-07</td>\n",
       "      <td>2008-12-08</td>\n",
       "      <td>2008-12-09</td>\n",
       "      <td>2008-12-10</td>\n",
       "      <td>...</td>\n",
       "      <td>2017-06-15</td>\n",
       "      <td>2017-06-16</td>\n",
       "      <td>2017-06-17</td>\n",
       "      <td>2017-06-18</td>\n",
       "      <td>2017-06-19</td>\n",
       "      <td>2017-06-20</td>\n",
       "      <td>2017-06-21</td>\n",
       "      <td>2017-06-22</td>\n",
       "      <td>2017-06-23</td>\n",
       "      <td>2017-06-24</td>\n",
       "    </tr>\n",
       "    <tr>\n",
       "      <th>Location</th>\n",
       "      <td>Albury</td>\n",
       "      <td>Albury</td>\n",
       "      <td>Albury</td>\n",
       "      <td>Albury</td>\n",
       "      <td>Albury</td>\n",
       "      <td>Albury</td>\n",
       "      <td>Albury</td>\n",
       "      <td>Albury</td>\n",
       "      <td>Albury</td>\n",
       "      <td>Albury</td>\n",
       "      <td>...</td>\n",
       "      <td>Uluru</td>\n",
       "      <td>Uluru</td>\n",
       "      <td>Uluru</td>\n",
       "      <td>Uluru</td>\n",
       "      <td>Uluru</td>\n",
       "      <td>Uluru</td>\n",
       "      <td>Uluru</td>\n",
       "      <td>Uluru</td>\n",
       "      <td>Uluru</td>\n",
       "      <td>Uluru</td>\n",
       "    </tr>\n",
       "    <tr>\n",
       "      <th>MinTemp</th>\n",
       "      <td>13.4</td>\n",
       "      <td>7.4</td>\n",
       "      <td>12.9</td>\n",
       "      <td>9.2</td>\n",
       "      <td>17.5</td>\n",
       "      <td>14.6</td>\n",
       "      <td>14.3</td>\n",
       "      <td>7.7</td>\n",
       "      <td>9.7</td>\n",
       "      <td>13.1</td>\n",
       "      <td>...</td>\n",
       "      <td>2.6</td>\n",
       "      <td>5.2</td>\n",
       "      <td>6.4</td>\n",
       "      <td>8.0</td>\n",
       "      <td>7.4</td>\n",
       "      <td>3.5</td>\n",
       "      <td>2.8</td>\n",
       "      <td>3.6</td>\n",
       "      <td>5.4</td>\n",
       "      <td>7.8</td>\n",
       "    </tr>\n",
       "    <tr>\n",
       "      <th>MaxTemp</th>\n",
       "      <td>22.9</td>\n",
       "      <td>25.1</td>\n",
       "      <td>25.7</td>\n",
       "      <td>28.0</td>\n",
       "      <td>32.3</td>\n",
       "      <td>29.7</td>\n",
       "      <td>25.0</td>\n",
       "      <td>26.7</td>\n",
       "      <td>31.9</td>\n",
       "      <td>30.1</td>\n",
       "      <td>...</td>\n",
       "      <td>22.5</td>\n",
       "      <td>24.3</td>\n",
       "      <td>23.4</td>\n",
       "      <td>20.7</td>\n",
       "      <td>20.6</td>\n",
       "      <td>21.8</td>\n",
       "      <td>23.4</td>\n",
       "      <td>25.3</td>\n",
       "      <td>26.9</td>\n",
       "      <td>27.0</td>\n",
       "    </tr>\n",
       "    <tr>\n",
       "      <th>Rainfall</th>\n",
       "      <td>0.6</td>\n",
       "      <td>0.0</td>\n",
       "      <td>0.0</td>\n",
       "      <td>0.0</td>\n",
       "      <td>1.0</td>\n",
       "      <td>0.2</td>\n",
       "      <td>0.0</td>\n",
       "      <td>0.0</td>\n",
       "      <td>0.0</td>\n",
       "      <td>1.4</td>\n",
       "      <td>...</td>\n",
       "      <td>0.0</td>\n",
       "      <td>0.0</td>\n",
       "      <td>0.0</td>\n",
       "      <td>0.0</td>\n",
       "      <td>0.0</td>\n",
       "      <td>0.0</td>\n",
       "      <td>0.0</td>\n",
       "      <td>0.0</td>\n",
       "      <td>0.0</td>\n",
       "      <td>0.0</td>\n",
       "    </tr>\n",
       "    <tr>\n",
       "      <th>Evaporation</th>\n",
       "      <td>NaN</td>\n",
       "      <td>NaN</td>\n",
       "      <td>NaN</td>\n",
       "      <td>NaN</td>\n",
       "      <td>NaN</td>\n",
       "      <td>NaN</td>\n",
       "      <td>NaN</td>\n",
       "      <td>NaN</td>\n",
       "      <td>NaN</td>\n",
       "      <td>NaN</td>\n",
       "      <td>...</td>\n",
       "      <td>NaN</td>\n",
       "      <td>NaN</td>\n",
       "      <td>NaN</td>\n",
       "      <td>NaN</td>\n",
       "      <td>NaN</td>\n",
       "      <td>NaN</td>\n",
       "      <td>NaN</td>\n",
       "      <td>NaN</td>\n",
       "      <td>NaN</td>\n",
       "      <td>NaN</td>\n",
       "    </tr>\n",
       "    <tr>\n",
       "      <th>Sunshine</th>\n",
       "      <td>NaN</td>\n",
       "      <td>NaN</td>\n",
       "      <td>NaN</td>\n",
       "      <td>NaN</td>\n",
       "      <td>NaN</td>\n",
       "      <td>NaN</td>\n",
       "      <td>NaN</td>\n",
       "      <td>NaN</td>\n",
       "      <td>NaN</td>\n",
       "      <td>NaN</td>\n",
       "      <td>...</td>\n",
       "      <td>NaN</td>\n",
       "      <td>NaN</td>\n",
       "      <td>NaN</td>\n",
       "      <td>NaN</td>\n",
       "      <td>NaN</td>\n",
       "      <td>NaN</td>\n",
       "      <td>NaN</td>\n",
       "      <td>NaN</td>\n",
       "      <td>NaN</td>\n",
       "      <td>NaN</td>\n",
       "    </tr>\n",
       "    <tr>\n",
       "      <th>WindGustDir</th>\n",
       "      <td>W</td>\n",
       "      <td>WNW</td>\n",
       "      <td>WSW</td>\n",
       "      <td>NE</td>\n",
       "      <td>W</td>\n",
       "      <td>WNW</td>\n",
       "      <td>W</td>\n",
       "      <td>W</td>\n",
       "      <td>NNW</td>\n",
       "      <td>W</td>\n",
       "      <td>...</td>\n",
       "      <td>S</td>\n",
       "      <td>E</td>\n",
       "      <td>ESE</td>\n",
       "      <td>ESE</td>\n",
       "      <td>E</td>\n",
       "      <td>E</td>\n",
       "      <td>E</td>\n",
       "      <td>NNW</td>\n",
       "      <td>N</td>\n",
       "      <td>SE</td>\n",
       "    </tr>\n",
       "    <tr>\n",
       "      <th>WindGustSpeed</th>\n",
       "      <td>44.0</td>\n",
       "      <td>44.0</td>\n",
       "      <td>46.0</td>\n",
       "      <td>24.0</td>\n",
       "      <td>41.0</td>\n",
       "      <td>56.0</td>\n",
       "      <td>50.0</td>\n",
       "      <td>35.0</td>\n",
       "      <td>80.0</td>\n",
       "      <td>28.0</td>\n",
       "      <td>...</td>\n",
       "      <td>19.0</td>\n",
       "      <td>24.0</td>\n",
       "      <td>31.0</td>\n",
       "      <td>41.0</td>\n",
       "      <td>35.0</td>\n",
       "      <td>31.0</td>\n",
       "      <td>31.0</td>\n",
       "      <td>22.0</td>\n",
       "      <td>37.0</td>\n",
       "      <td>28.0</td>\n",
       "    </tr>\n",
       "    <tr>\n",
       "      <th>WindDir9am</th>\n",
       "      <td>W</td>\n",
       "      <td>NNW</td>\n",
       "      <td>W</td>\n",
       "      <td>SE</td>\n",
       "      <td>ENE</td>\n",
       "      <td>W</td>\n",
       "      <td>SW</td>\n",
       "      <td>SSE</td>\n",
       "      <td>SE</td>\n",
       "      <td>S</td>\n",
       "      <td>...</td>\n",
       "      <td>S</td>\n",
       "      <td>SE</td>\n",
       "      <td>S</td>\n",
       "      <td>SE</td>\n",
       "      <td>ESE</td>\n",
       "      <td>ESE</td>\n",
       "      <td>SE</td>\n",
       "      <td>SE</td>\n",
       "      <td>SE</td>\n",
       "      <td>SSE</td>\n",
       "    </tr>\n",
       "    <tr>\n",
       "      <th>WindDir3pm</th>\n",
       "      <td>WNW</td>\n",
       "      <td>WSW</td>\n",
       "      <td>WSW</td>\n",
       "      <td>E</td>\n",
       "      <td>NW</td>\n",
       "      <td>W</td>\n",
       "      <td>W</td>\n",
       "      <td>W</td>\n",
       "      <td>NW</td>\n",
       "      <td>SSE</td>\n",
       "      <td>...</td>\n",
       "      <td>E</td>\n",
       "      <td>E</td>\n",
       "      <td>ESE</td>\n",
       "      <td>E</td>\n",
       "      <td>E</td>\n",
       "      <td>E</td>\n",
       "      <td>ENE</td>\n",
       "      <td>N</td>\n",
       "      <td>WNW</td>\n",
       "      <td>N</td>\n",
       "    </tr>\n",
       "    <tr>\n",
       "      <th>WindSpeed9am</th>\n",
       "      <td>20.0</td>\n",
       "      <td>4.0</td>\n",
       "      <td>19.0</td>\n",
       "      <td>11.0</td>\n",
       "      <td>7.0</td>\n",
       "      <td>19.0</td>\n",
       "      <td>20.0</td>\n",
       "      <td>6.0</td>\n",
       "      <td>7.0</td>\n",
       "      <td>15.0</td>\n",
       "      <td>...</td>\n",
       "      <td>9.0</td>\n",
       "      <td>11.0</td>\n",
       "      <td>15.0</td>\n",
       "      <td>19.0</td>\n",
       "      <td>15.0</td>\n",
       "      <td>15.0</td>\n",
       "      <td>13.0</td>\n",
       "      <td>13.0</td>\n",
       "      <td>9.0</td>\n",
       "      <td>13.0</td>\n",
       "    </tr>\n",
       "    <tr>\n",
       "      <th>WindSpeed3pm</th>\n",
       "      <td>24.0</td>\n",
       "      <td>22.0</td>\n",
       "      <td>26.0</td>\n",
       "      <td>9.0</td>\n",
       "      <td>20.0</td>\n",
       "      <td>24.0</td>\n",
       "      <td>24.0</td>\n",
       "      <td>17.0</td>\n",
       "      <td>28.0</td>\n",
       "      <td>11.0</td>\n",
       "      <td>...</td>\n",
       "      <td>7.0</td>\n",
       "      <td>11.0</td>\n",
       "      <td>17.0</td>\n",
       "      <td>26.0</td>\n",
       "      <td>17.0</td>\n",
       "      <td>13.0</td>\n",
       "      <td>11.0</td>\n",
       "      <td>9.0</td>\n",
       "      <td>9.0</td>\n",
       "      <td>7.0</td>\n",
       "    </tr>\n",
       "    <tr>\n",
       "      <th>Humidity9am</th>\n",
       "      <td>71.0</td>\n",
       "      <td>44.0</td>\n",
       "      <td>38.0</td>\n",
       "      <td>45.0</td>\n",
       "      <td>82.0</td>\n",
       "      <td>55.0</td>\n",
       "      <td>49.0</td>\n",
       "      <td>48.0</td>\n",
       "      <td>42.0</td>\n",
       "      <td>58.0</td>\n",
       "      <td>...</td>\n",
       "      <td>59.0</td>\n",
       "      <td>53.0</td>\n",
       "      <td>53.0</td>\n",
       "      <td>56.0</td>\n",
       "      <td>63.0</td>\n",
       "      <td>59.0</td>\n",
       "      <td>51.0</td>\n",
       "      <td>56.0</td>\n",
       "      <td>53.0</td>\n",
       "      <td>51.0</td>\n",
       "    </tr>\n",
       "    <tr>\n",
       "      <th>Humidity3pm</th>\n",
       "      <td>22.0</td>\n",
       "      <td>25.0</td>\n",
       "      <td>30.0</td>\n",
       "      <td>16.0</td>\n",
       "      <td>33.0</td>\n",
       "      <td>23.0</td>\n",
       "      <td>19.0</td>\n",
       "      <td>19.0</td>\n",
       "      <td>9.0</td>\n",
       "      <td>27.0</td>\n",
       "      <td>...</td>\n",
       "      <td>24.0</td>\n",
       "      <td>24.0</td>\n",
       "      <td>25.0</td>\n",
       "      <td>32.0</td>\n",
       "      <td>33.0</td>\n",
       "      <td>27.0</td>\n",
       "      <td>24.0</td>\n",
       "      <td>21.0</td>\n",
       "      <td>24.0</td>\n",
       "      <td>24.0</td>\n",
       "    </tr>\n",
       "    <tr>\n",
       "      <th>Pressure9am</th>\n",
       "      <td>1007.7</td>\n",
       "      <td>1010.6</td>\n",
       "      <td>1007.6</td>\n",
       "      <td>1017.6</td>\n",
       "      <td>1010.8</td>\n",
       "      <td>1009.2</td>\n",
       "      <td>1009.6</td>\n",
       "      <td>1013.4</td>\n",
       "      <td>1008.9</td>\n",
       "      <td>1007.0</td>\n",
       "      <td>...</td>\n",
       "      <td>1025.0</td>\n",
       "      <td>1023.8</td>\n",
       "      <td>1025.8</td>\n",
       "      <td>1028.1</td>\n",
       "      <td>1027.2</td>\n",
       "      <td>1024.7</td>\n",
       "      <td>1024.6</td>\n",
       "      <td>1023.5</td>\n",
       "      <td>1021.0</td>\n",
       "      <td>1019.4</td>\n",
       "    </tr>\n",
       "    <tr>\n",
       "      <th>Pressure3pm</th>\n",
       "      <td>1007.1</td>\n",
       "      <td>1007.8</td>\n",
       "      <td>1008.7</td>\n",
       "      <td>1012.8</td>\n",
       "      <td>1006.0</td>\n",
       "      <td>1005.4</td>\n",
       "      <td>1008.2</td>\n",
       "      <td>1010.1</td>\n",
       "      <td>1003.6</td>\n",
       "      <td>1005.7</td>\n",
       "      <td>...</td>\n",
       "      <td>1021.4</td>\n",
       "      <td>1020.0</td>\n",
       "      <td>1023.0</td>\n",
       "      <td>1024.3</td>\n",
       "      <td>1023.3</td>\n",
       "      <td>1021.2</td>\n",
       "      <td>1020.3</td>\n",
       "      <td>1019.1</td>\n",
       "      <td>1016.8</td>\n",
       "      <td>1016.5</td>\n",
       "    </tr>\n",
       "    <tr>\n",
       "      <th>Cloud9am</th>\n",
       "      <td>8.0</td>\n",
       "      <td>NaN</td>\n",
       "      <td>NaN</td>\n",
       "      <td>NaN</td>\n",
       "      <td>7.0</td>\n",
       "      <td>NaN</td>\n",
       "      <td>1.0</td>\n",
       "      <td>NaN</td>\n",
       "      <td>NaN</td>\n",
       "      <td>NaN</td>\n",
       "      <td>...</td>\n",
       "      <td>NaN</td>\n",
       "      <td>NaN</td>\n",
       "      <td>NaN</td>\n",
       "      <td>NaN</td>\n",
       "      <td>NaN</td>\n",
       "      <td>NaN</td>\n",
       "      <td>NaN</td>\n",
       "      <td>NaN</td>\n",
       "      <td>NaN</td>\n",
       "      <td>3.0</td>\n",
       "    </tr>\n",
       "    <tr>\n",
       "      <th>Cloud3pm</th>\n",
       "      <td>NaN</td>\n",
       "      <td>NaN</td>\n",
       "      <td>2.0</td>\n",
       "      <td>NaN</td>\n",
       "      <td>8.0</td>\n",
       "      <td>NaN</td>\n",
       "      <td>NaN</td>\n",
       "      <td>NaN</td>\n",
       "      <td>NaN</td>\n",
       "      <td>NaN</td>\n",
       "      <td>...</td>\n",
       "      <td>NaN</td>\n",
       "      <td>NaN</td>\n",
       "      <td>NaN</td>\n",
       "      <td>7.0</td>\n",
       "      <td>NaN</td>\n",
       "      <td>NaN</td>\n",
       "      <td>NaN</td>\n",
       "      <td>NaN</td>\n",
       "      <td>NaN</td>\n",
       "      <td>2.0</td>\n",
       "    </tr>\n",
       "    <tr>\n",
       "      <th>Temp9am</th>\n",
       "      <td>16.9</td>\n",
       "      <td>17.2</td>\n",
       "      <td>21.0</td>\n",
       "      <td>18.1</td>\n",
       "      <td>17.8</td>\n",
       "      <td>20.6</td>\n",
       "      <td>18.1</td>\n",
       "      <td>16.3</td>\n",
       "      <td>18.3</td>\n",
       "      <td>20.1</td>\n",
       "      <td>...</td>\n",
       "      <td>8.8</td>\n",
       "      <td>12.3</td>\n",
       "      <td>11.2</td>\n",
       "      <td>11.6</td>\n",
       "      <td>11.0</td>\n",
       "      <td>9.4</td>\n",
       "      <td>10.1</td>\n",
       "      <td>10.9</td>\n",
       "      <td>12.5</td>\n",
       "      <td>15.1</td>\n",
       "    </tr>\n",
       "    <tr>\n",
       "      <th>Temp3pm</th>\n",
       "      <td>21.8</td>\n",
       "      <td>24.3</td>\n",
       "      <td>23.2</td>\n",
       "      <td>26.5</td>\n",
       "      <td>29.7</td>\n",
       "      <td>28.9</td>\n",
       "      <td>24.6</td>\n",
       "      <td>25.5</td>\n",
       "      <td>30.2</td>\n",
       "      <td>28.2</td>\n",
       "      <td>...</td>\n",
       "      <td>22.1</td>\n",
       "      <td>23.3</td>\n",
       "      <td>23.1</td>\n",
       "      <td>20.0</td>\n",
       "      <td>20.3</td>\n",
       "      <td>20.9</td>\n",
       "      <td>22.4</td>\n",
       "      <td>24.5</td>\n",
       "      <td>26.1</td>\n",
       "      <td>26.0</td>\n",
       "    </tr>\n",
       "    <tr>\n",
       "      <th>RainToday</th>\n",
       "      <td>No</td>\n",
       "      <td>No</td>\n",
       "      <td>No</td>\n",
       "      <td>No</td>\n",
       "      <td>No</td>\n",
       "      <td>No</td>\n",
       "      <td>No</td>\n",
       "      <td>No</td>\n",
       "      <td>No</td>\n",
       "      <td>Yes</td>\n",
       "      <td>...</td>\n",
       "      <td>No</td>\n",
       "      <td>No</td>\n",
       "      <td>No</td>\n",
       "      <td>No</td>\n",
       "      <td>No</td>\n",
       "      <td>No</td>\n",
       "      <td>No</td>\n",
       "      <td>No</td>\n",
       "      <td>No</td>\n",
       "      <td>No</td>\n",
       "    </tr>\n",
       "  </tbody>\n",
       "</table>\n",
       "<p>23 rows × 142193 columns</p>\n",
       "</div>"
      ],
      "text/plain": [
       "                   0           1           2           3           4       \\\n",
       "Unnamed: 0              0           1           2           3           4   \n",
       "Date           2008-12-01  2008-12-02  2008-12-03  2008-12-04  2008-12-05   \n",
       "Location           Albury      Albury      Albury      Albury      Albury   \n",
       "MinTemp              13.4         7.4        12.9         9.2        17.5   \n",
       "MaxTemp              22.9        25.1        25.7        28.0        32.3   \n",
       "Rainfall              0.6         0.0         0.0         0.0         1.0   \n",
       "Evaporation           NaN         NaN         NaN         NaN         NaN   \n",
       "Sunshine              NaN         NaN         NaN         NaN         NaN   \n",
       "WindGustDir             W         WNW         WSW          NE           W   \n",
       "WindGustSpeed        44.0        44.0        46.0        24.0        41.0   \n",
       "WindDir9am              W         NNW           W          SE         ENE   \n",
       "WindDir3pm            WNW         WSW         WSW           E          NW   \n",
       "WindSpeed9am         20.0         4.0        19.0        11.0         7.0   \n",
       "WindSpeed3pm         24.0        22.0        26.0         9.0        20.0   \n",
       "Humidity9am          71.0        44.0        38.0        45.0        82.0   \n",
       "Humidity3pm          22.0        25.0        30.0        16.0        33.0   \n",
       "Pressure9am        1007.7      1010.6      1007.6      1017.6      1010.8   \n",
       "Pressure3pm        1007.1      1007.8      1008.7      1012.8      1006.0   \n",
       "Cloud9am              8.0         NaN         NaN         NaN         7.0   \n",
       "Cloud3pm              NaN         NaN         2.0         NaN         8.0   \n",
       "Temp9am              16.9        17.2        21.0        18.1        17.8   \n",
       "Temp3pm              21.8        24.3        23.2        26.5        29.7   \n",
       "RainToday              No          No          No          No          No   \n",
       "\n",
       "                   5           6           7           8           9       \\\n",
       "Unnamed: 0              5           6           7           8           9   \n",
       "Date           2008-12-06  2008-12-07  2008-12-08  2008-12-09  2008-12-10   \n",
       "Location           Albury      Albury      Albury      Albury      Albury   \n",
       "MinTemp              14.6        14.3         7.7         9.7        13.1   \n",
       "MaxTemp              29.7        25.0        26.7        31.9        30.1   \n",
       "Rainfall              0.2         0.0         0.0         0.0         1.4   \n",
       "Evaporation           NaN         NaN         NaN         NaN         NaN   \n",
       "Sunshine              NaN         NaN         NaN         NaN         NaN   \n",
       "WindGustDir           WNW           W           W         NNW           W   \n",
       "WindGustSpeed        56.0        50.0        35.0        80.0        28.0   \n",
       "WindDir9am              W          SW         SSE          SE           S   \n",
       "WindDir3pm              W           W           W          NW         SSE   \n",
       "WindSpeed9am         19.0        20.0         6.0         7.0        15.0   \n",
       "WindSpeed3pm         24.0        24.0        17.0        28.0        11.0   \n",
       "Humidity9am          55.0        49.0        48.0        42.0        58.0   \n",
       "Humidity3pm          23.0        19.0        19.0         9.0        27.0   \n",
       "Pressure9am        1009.2      1009.6      1013.4      1008.9      1007.0   \n",
       "Pressure3pm        1005.4      1008.2      1010.1      1003.6      1005.7   \n",
       "Cloud9am              NaN         1.0         NaN         NaN         NaN   \n",
       "Cloud3pm              NaN         NaN         NaN         NaN         NaN   \n",
       "Temp9am              20.6        18.1        16.3        18.3        20.1   \n",
       "Temp3pm              28.9        24.6        25.5        30.2        28.2   \n",
       "RainToday              No          No          No          No         Yes   \n",
       "\n",
       "               ...      142183      142184      142185      142186  \\\n",
       "Unnamed: 0     ...      145449      145450      145451      145452   \n",
       "Date           ...  2017-06-15  2017-06-16  2017-06-17  2017-06-18   \n",
       "Location       ...       Uluru       Uluru       Uluru       Uluru   \n",
       "MinTemp        ...         2.6         5.2         6.4         8.0   \n",
       "MaxTemp        ...        22.5        24.3        23.4        20.7   \n",
       "Rainfall       ...         0.0         0.0         0.0         0.0   \n",
       "Evaporation    ...         NaN         NaN         NaN         NaN   \n",
       "Sunshine       ...         NaN         NaN         NaN         NaN   \n",
       "WindGustDir    ...           S           E         ESE         ESE   \n",
       "WindGustSpeed  ...        19.0        24.0        31.0        41.0   \n",
       "WindDir9am     ...           S          SE           S          SE   \n",
       "WindDir3pm     ...           E           E         ESE           E   \n",
       "WindSpeed9am   ...         9.0        11.0        15.0        19.0   \n",
       "WindSpeed3pm   ...         7.0        11.0        17.0        26.0   \n",
       "Humidity9am    ...        59.0        53.0        53.0        56.0   \n",
       "Humidity3pm    ...        24.0        24.0        25.0        32.0   \n",
       "Pressure9am    ...      1025.0      1023.8      1025.8      1028.1   \n",
       "Pressure3pm    ...      1021.4      1020.0      1023.0      1024.3   \n",
       "Cloud9am       ...         NaN         NaN         NaN         NaN   \n",
       "Cloud3pm       ...         NaN         NaN         NaN         7.0   \n",
       "Temp9am        ...         8.8        12.3        11.2        11.6   \n",
       "Temp3pm        ...        22.1        23.3        23.1        20.0   \n",
       "RainToday      ...          No          No          No          No   \n",
       "\n",
       "                   142187      142188      142189      142190      142191  \\\n",
       "Unnamed: 0         145453      145454      145455      145456      145457   \n",
       "Date           2017-06-19  2017-06-20  2017-06-21  2017-06-22  2017-06-23   \n",
       "Location            Uluru       Uluru       Uluru       Uluru       Uluru   \n",
       "MinTemp               7.4         3.5         2.8         3.6         5.4   \n",
       "MaxTemp              20.6        21.8        23.4        25.3        26.9   \n",
       "Rainfall              0.0         0.0         0.0         0.0         0.0   \n",
       "Evaporation           NaN         NaN         NaN         NaN         NaN   \n",
       "Sunshine              NaN         NaN         NaN         NaN         NaN   \n",
       "WindGustDir             E           E           E         NNW           N   \n",
       "WindGustSpeed        35.0        31.0        31.0        22.0        37.0   \n",
       "WindDir9am            ESE         ESE          SE          SE          SE   \n",
       "WindDir3pm              E           E         ENE           N         WNW   \n",
       "WindSpeed9am         15.0        15.0        13.0        13.0         9.0   \n",
       "WindSpeed3pm         17.0        13.0        11.0         9.0         9.0   \n",
       "Humidity9am          63.0        59.0        51.0        56.0        53.0   \n",
       "Humidity3pm          33.0        27.0        24.0        21.0        24.0   \n",
       "Pressure9am        1027.2      1024.7      1024.6      1023.5      1021.0   \n",
       "Pressure3pm        1023.3      1021.2      1020.3      1019.1      1016.8   \n",
       "Cloud9am              NaN         NaN         NaN         NaN         NaN   \n",
       "Cloud3pm              NaN         NaN         NaN         NaN         NaN   \n",
       "Temp9am              11.0         9.4        10.1        10.9        12.5   \n",
       "Temp3pm              20.3        20.9        22.4        24.5        26.1   \n",
       "RainToday              No          No          No          No          No   \n",
       "\n",
       "                   142192  \n",
       "Unnamed: 0         145458  \n",
       "Date           2017-06-24  \n",
       "Location            Uluru  \n",
       "MinTemp               7.8  \n",
       "MaxTemp              27.0  \n",
       "Rainfall              0.0  \n",
       "Evaporation           NaN  \n",
       "Sunshine              NaN  \n",
       "WindGustDir            SE  \n",
       "WindGustSpeed        28.0  \n",
       "WindDir9am            SSE  \n",
       "WindDir3pm              N  \n",
       "WindSpeed9am         13.0  \n",
       "WindSpeed3pm          7.0  \n",
       "Humidity9am          51.0  \n",
       "Humidity3pm          24.0  \n",
       "Pressure9am        1019.4  \n",
       "Pressure3pm        1016.5  \n",
       "Cloud9am              3.0  \n",
       "Cloud3pm              2.0  \n",
       "Temp9am              15.1  \n",
       "Temp3pm              26.0  \n",
       "RainToday              No  \n",
       "\n",
       "[23 rows x 142193 columns]"
      ]
     },
     "execution_count": 11,
     "metadata": {},
     "output_type": "execute_result"
    }
   ],
   "source": [
    "X.T"
   ]
  },
  {
   "cell_type": "markdown",
   "metadata": {
    "id": "55KcWDdPVbbI"
   },
   "source": [
    "### Предобработка признаков"
   ]
  },
  {
   "cell_type": "markdown",
   "metadata": {
    "id": "2SOLjJ0yVbbJ"
   },
   "source": [
    "Удалим колонку \"Unnamed: 0\" так как она не несет в себе полезной информации."
   ]
  },
  {
   "cell_type": "code",
   "execution_count": 12,
   "metadata": {
    "id": "hMt7biPaVbbJ"
   },
   "outputs": [],
   "source": [
    "del X[\"Unnamed: 0\"]"
   ]
  },
  {
   "cell_type": "markdown",
   "metadata": {
    "id": "ctn4r2ppVbbK"
   },
   "source": [
    "Расположение безусловно важно при предсказании погоды, но с учетом того что данные отсортированы по названиям городов, и для обучения выбираются первые 75% можно предположить, что данный признак будет бесполезен при обучении модели. Поэтому удалим данный признак из датасета."
   ]
  },
  {
   "cell_type": "code",
   "execution_count": 13,
   "metadata": {
    "id": "WsoqUUDMVbbK"
   },
   "outputs": [],
   "source": [
    "del X[\"Location\"]"
   ]
  },
  {
   "cell_type": "markdown",
   "metadata": {
    "id": "ZGm90NM0VbbL"
   },
   "source": [
    "Заменим 'Yes' и 'No' в колонке RainToday на 1 и 0 соответственно."
   ]
  },
  {
   "cell_type": "code",
   "execution_count": 14,
   "metadata": {
    "colab": {
     "base_uri": "https://localhost:8080/"
    },
    "id": "QT7tlnz7VbbL",
    "outputId": "0c21e124-69ee-469c-f23a-e94861a96768"
   },
   "outputs": [
    {
     "data": {
      "text/plain": [
       "0.0    109332\n",
       "1.0     31455\n",
       "Name: RainToday, dtype: int64"
      ]
     },
     "execution_count": 14,
     "metadata": {},
     "output_type": "execute_result"
    }
   ],
   "source": [
    "X[\"RainToday\"] = X.RainToday.replace({'No':0, 'Yes': 1})\n",
    "X[\"RainToday\"].value_counts()"
   ]
  },
  {
   "cell_type": "markdown",
   "metadata": {
    "id": "KdkQ94z1VbbL"
   },
   "source": [
    "Заполним пропуски в численных признаках. В колонке RainToday пропуски заполним нулями, а в остольных - средним значением."
   ]
  },
  {
   "cell_type": "code",
   "execution_count": 15,
   "metadata": {
    "colab": {
     "base_uri": "https://localhost:8080/",
     "height": 364
    },
    "id": "Ug2dG5aQVbbM",
    "outputId": "7e11fa78-653b-4ccf-f622-78670198273c",
    "scrolled": true
   },
   "outputs": [
    {
     "data": {
      "text/html": [
       "<div>\n",
       "<style scoped>\n",
       "    .dataframe tbody tr th:only-of-type {\n",
       "        vertical-align: middle;\n",
       "    }\n",
       "\n",
       "    .dataframe tbody tr th {\n",
       "        vertical-align: top;\n",
       "    }\n",
       "\n",
       "    .dataframe thead th {\n",
       "        text-align: right;\n",
       "    }\n",
       "</style>\n",
       "<table border=\"1\" class=\"dataframe\">\n",
       "  <thead>\n",
       "    <tr style=\"text-align: right;\">\n",
       "      <th></th>\n",
       "      <th>MinTemp</th>\n",
       "      <th>MaxTemp</th>\n",
       "      <th>Rainfall</th>\n",
       "      <th>Evaporation</th>\n",
       "      <th>Sunshine</th>\n",
       "      <th>WindGustSpeed</th>\n",
       "      <th>WindSpeed9am</th>\n",
       "      <th>WindSpeed3pm</th>\n",
       "      <th>Humidity9am</th>\n",
       "      <th>Humidity3pm</th>\n",
       "      <th>Pressure9am</th>\n",
       "      <th>Pressure3pm</th>\n",
       "      <th>Cloud9am</th>\n",
       "      <th>Cloud3pm</th>\n",
       "      <th>Temp9am</th>\n",
       "      <th>Temp3pm</th>\n",
       "      <th>RainToday</th>\n",
       "    </tr>\n",
       "  </thead>\n",
       "  <tbody>\n",
       "    <tr>\n",
       "      <th>count</th>\n",
       "      <td>142193.000000</td>\n",
       "      <td>142193.000000</td>\n",
       "      <td>142193.000000</td>\n",
       "      <td>142193.000000</td>\n",
       "      <td>142193.000000</td>\n",
       "      <td>142193.000000</td>\n",
       "      <td>142193.000000</td>\n",
       "      <td>142193.000000</td>\n",
       "      <td>142193.000000</td>\n",
       "      <td>142193.000000</td>\n",
       "      <td>142193.000000</td>\n",
       "      <td>142193.000000</td>\n",
       "      <td>142193.000000</td>\n",
       "      <td>142193.000000</td>\n",
       "      <td>142193.000000</td>\n",
       "      <td>142193.000000</td>\n",
       "      <td>142193.000000</td>\n",
       "    </tr>\n",
       "    <tr>\n",
       "      <th>mean</th>\n",
       "      <td>12.186400</td>\n",
       "      <td>23.226784</td>\n",
       "      <td>2.349974</td>\n",
       "      <td>5.469824</td>\n",
       "      <td>7.624853</td>\n",
       "      <td>39.984292</td>\n",
       "      <td>14.001988</td>\n",
       "      <td>18.637576</td>\n",
       "      <td>68.843810</td>\n",
       "      <td>51.482606</td>\n",
       "      <td>1017.653758</td>\n",
       "      <td>1015.258204</td>\n",
       "      <td>4.437189</td>\n",
       "      <td>4.503167</td>\n",
       "      <td>16.987509</td>\n",
       "      <td>21.687235</td>\n",
       "      <td>0.223423</td>\n",
       "    </tr>\n",
       "    <tr>\n",
       "      <th>std</th>\n",
       "      <td>6.388924</td>\n",
       "      <td>7.109554</td>\n",
       "      <td>8.423217</td>\n",
       "      <td>3.168114</td>\n",
       "      <td>2.734927</td>\n",
       "      <td>13.138385</td>\n",
       "      <td>8.851082</td>\n",
       "      <td>8.721551</td>\n",
       "      <td>18.932077</td>\n",
       "      <td>20.532065</td>\n",
       "      <td>6.746248</td>\n",
       "      <td>6.681788</td>\n",
       "      <td>2.278080</td>\n",
       "      <td>2.104709</td>\n",
       "      <td>6.472166</td>\n",
       "      <td>6.870771</td>\n",
       "      <td>0.414476</td>\n",
       "    </tr>\n",
       "    <tr>\n",
       "      <th>min</th>\n",
       "      <td>-8.500000</td>\n",
       "      <td>-4.800000</td>\n",
       "      <td>0.000000</td>\n",
       "      <td>0.000000</td>\n",
       "      <td>0.000000</td>\n",
       "      <td>6.000000</td>\n",
       "      <td>0.000000</td>\n",
       "      <td>0.000000</td>\n",
       "      <td>0.000000</td>\n",
       "      <td>0.000000</td>\n",
       "      <td>980.500000</td>\n",
       "      <td>977.100000</td>\n",
       "      <td>0.000000</td>\n",
       "      <td>0.000000</td>\n",
       "      <td>-7.200000</td>\n",
       "      <td>-5.400000</td>\n",
       "      <td>0.000000</td>\n",
       "    </tr>\n",
       "    <tr>\n",
       "      <th>25%</th>\n",
       "      <td>7.600000</td>\n",
       "      <td>17.900000</td>\n",
       "      <td>0.000000</td>\n",
       "      <td>4.000000</td>\n",
       "      <td>7.624853</td>\n",
       "      <td>31.000000</td>\n",
       "      <td>7.000000</td>\n",
       "      <td>13.000000</td>\n",
       "      <td>57.000000</td>\n",
       "      <td>37.000000</td>\n",
       "      <td>1013.500000</td>\n",
       "      <td>1011.000000</td>\n",
       "      <td>3.000000</td>\n",
       "      <td>4.000000</td>\n",
       "      <td>12.300000</td>\n",
       "      <td>16.700000</td>\n",
       "      <td>0.000000</td>\n",
       "    </tr>\n",
       "    <tr>\n",
       "      <th>50%</th>\n",
       "      <td>12.000000</td>\n",
       "      <td>22.700000</td>\n",
       "      <td>0.000000</td>\n",
       "      <td>5.469824</td>\n",
       "      <td>7.624853</td>\n",
       "      <td>39.000000</td>\n",
       "      <td>13.000000</td>\n",
       "      <td>18.637576</td>\n",
       "      <td>70.000000</td>\n",
       "      <td>51.482606</td>\n",
       "      <td>1017.653758</td>\n",
       "      <td>1015.258204</td>\n",
       "      <td>4.437189</td>\n",
       "      <td>4.503167</td>\n",
       "      <td>16.800000</td>\n",
       "      <td>21.300000</td>\n",
       "      <td>0.000000</td>\n",
       "    </tr>\n",
       "    <tr>\n",
       "      <th>75%</th>\n",
       "      <td>16.800000</td>\n",
       "      <td>28.200000</td>\n",
       "      <td>0.800000</td>\n",
       "      <td>5.469824</td>\n",
       "      <td>8.700000</td>\n",
       "      <td>46.000000</td>\n",
       "      <td>19.000000</td>\n",
       "      <td>24.000000</td>\n",
       "      <td>83.000000</td>\n",
       "      <td>65.000000</td>\n",
       "      <td>1021.800000</td>\n",
       "      <td>1019.400000</td>\n",
       "      <td>6.000000</td>\n",
       "      <td>6.000000</td>\n",
       "      <td>21.500000</td>\n",
       "      <td>26.300000</td>\n",
       "      <td>0.000000</td>\n",
       "    </tr>\n",
       "    <tr>\n",
       "      <th>max</th>\n",
       "      <td>33.900000</td>\n",
       "      <td>48.100000</td>\n",
       "      <td>371.000000</td>\n",
       "      <td>145.000000</td>\n",
       "      <td>14.500000</td>\n",
       "      <td>135.000000</td>\n",
       "      <td>130.000000</td>\n",
       "      <td>87.000000</td>\n",
       "      <td>100.000000</td>\n",
       "      <td>100.000000</td>\n",
       "      <td>1041.000000</td>\n",
       "      <td>1039.600000</td>\n",
       "      <td>9.000000</td>\n",
       "      <td>9.000000</td>\n",
       "      <td>40.200000</td>\n",
       "      <td>46.700000</td>\n",
       "      <td>1.000000</td>\n",
       "    </tr>\n",
       "  </tbody>\n",
       "</table>\n",
       "</div>"
      ],
      "text/plain": [
       "             MinTemp        MaxTemp       Rainfall    Evaporation  \\\n",
       "count  142193.000000  142193.000000  142193.000000  142193.000000   \n",
       "mean       12.186400      23.226784       2.349974       5.469824   \n",
       "std         6.388924       7.109554       8.423217       3.168114   \n",
       "min        -8.500000      -4.800000       0.000000       0.000000   \n",
       "25%         7.600000      17.900000       0.000000       4.000000   \n",
       "50%        12.000000      22.700000       0.000000       5.469824   \n",
       "75%        16.800000      28.200000       0.800000       5.469824   \n",
       "max        33.900000      48.100000     371.000000     145.000000   \n",
       "\n",
       "            Sunshine  WindGustSpeed   WindSpeed9am   WindSpeed3pm  \\\n",
       "count  142193.000000  142193.000000  142193.000000  142193.000000   \n",
       "mean        7.624853      39.984292      14.001988      18.637576   \n",
       "std         2.734927      13.138385       8.851082       8.721551   \n",
       "min         0.000000       6.000000       0.000000       0.000000   \n",
       "25%         7.624853      31.000000       7.000000      13.000000   \n",
       "50%         7.624853      39.000000      13.000000      18.637576   \n",
       "75%         8.700000      46.000000      19.000000      24.000000   \n",
       "max        14.500000     135.000000     130.000000      87.000000   \n",
       "\n",
       "         Humidity9am    Humidity3pm    Pressure9am    Pressure3pm  \\\n",
       "count  142193.000000  142193.000000  142193.000000  142193.000000   \n",
       "mean       68.843810      51.482606    1017.653758    1015.258204   \n",
       "std        18.932077      20.532065       6.746248       6.681788   \n",
       "min         0.000000       0.000000     980.500000     977.100000   \n",
       "25%        57.000000      37.000000    1013.500000    1011.000000   \n",
       "50%        70.000000      51.482606    1017.653758    1015.258204   \n",
       "75%        83.000000      65.000000    1021.800000    1019.400000   \n",
       "max       100.000000     100.000000    1041.000000    1039.600000   \n",
       "\n",
       "            Cloud9am       Cloud3pm        Temp9am        Temp3pm  \\\n",
       "count  142193.000000  142193.000000  142193.000000  142193.000000   \n",
       "mean        4.437189       4.503167      16.987509      21.687235   \n",
       "std         2.278080       2.104709       6.472166       6.870771   \n",
       "min         0.000000       0.000000      -7.200000      -5.400000   \n",
       "25%         3.000000       4.000000      12.300000      16.700000   \n",
       "50%         4.437189       4.503167      16.800000      21.300000   \n",
       "75%         6.000000       6.000000      21.500000      26.300000   \n",
       "max         9.000000       9.000000      40.200000      46.700000   \n",
       "\n",
       "           RainToday  \n",
       "count  142193.000000  \n",
       "mean        0.223423  \n",
       "std         0.414476  \n",
       "min         0.000000  \n",
       "25%         0.000000  \n",
       "50%         0.000000  \n",
       "75%         0.000000  \n",
       "max         1.000000  "
      ]
     },
     "execution_count": 15,
     "metadata": {},
     "output_type": "execute_result"
    }
   ],
   "source": [
    "for i in X.describe().columns:\n",
    "    X[i].fillna(X[i].mean(), inplace=True)\n",
    "\n",
    "X[\"RainToday\"].fillna(0, inplace=True)\n",
    "X.describe()"
   ]
  },
  {
   "cell_type": "markdown",
   "metadata": {
    "id": "NFX_palZVbbM"
   },
   "source": [
    "В колонке \"Date\" оставим информацию только о месяце."
   ]
  },
  {
   "cell_type": "code",
   "execution_count": 16,
   "metadata": {
    "id": "Rz0gwcN4VbbM"
   },
   "outputs": [],
   "source": [
    "X[\"Date\"] = X[\"Date\"].apply(lambda x: int(x[5:7]))"
   ]
  },
  {
   "cell_type": "markdown",
   "metadata": {
    "id": "OrQO0TA2VbbN"
   },
   "source": [
    "Применим метод OneHotEncoder к котегориальным признакам"
   ]
  },
  {
   "cell_type": "code",
   "execution_count": 17,
   "metadata": {
    "id": "W9gXpQNmVbbN",
    "scrolled": true
   },
   "outputs": [],
   "source": [
    "from sklearn.preprocessing import LabelEncoder\n",
    "from sklearn.preprocessing import OneHotEncoder\n",
    "\n",
    "X[\"WindGustDir\"] = LabelEncoder().fit_transform(X[\"WindGustDir\"])\n",
    "X[\"WindDir9am\"] = LabelEncoder().fit_transform(X[\"WindDir9am\"])\n",
    "X[\"WindDir3pm\"] = LabelEncoder().fit_transform(X[\"WindDir3pm\"])\n",
    "X[\"Date\"] = LabelEncoder().fit_transform(X[\"Date\"])\n",
    "\n",
    "ohe = OneHotEncoder(sparse=False)\n",
    "new_ohe_wind_gus_dir = ohe.fit_transform(X[[\"WindGustDir\"]])\n",
    "new_ohe_wind_dir_9am = ohe.fit_transform(X[[\"WindDir9am\"]])\n",
    "new_ohe_wind_dir_3am = ohe.fit_transform(X[[\"WindDir3pm\"]])\n",
    "new_ohe_date = ohe.fit_transform(X[[\"Date\"]])\n",
    "\n",
    "X_ohe = X.copy()\n",
    "\n",
    "del X_ohe[\"WindGustDir\"], X_ohe[\"WindDir9am\"], X_ohe[\"WindDir3pm\"], X_ohe[\"Date\"]\n",
    "X_ohe = pd.DataFrame(np.hstack((X_ohe, new_ohe_wind_gus_dir, new_ohe_wind_dir_9am, new_ohe_wind_dir_3am, new_ohe_date)))"
   ]
  },
  {
   "cell_type": "markdown",
   "metadata": {
    "id": "THyA9qzfVbbN"
   },
   "source": [
    "Применим MinMaxScaler"
   ]
  },
  {
   "cell_type": "code",
   "execution_count": 18,
   "metadata": {
    "id": "x7JtFiOrVbbO"
   },
   "outputs": [],
   "source": [
    "from sklearn import preprocessing\n",
    "\n",
    "mm_scaler = preprocessing.MinMaxScaler()\n",
    "X_ohe = mm_scaler.fit_transform(X_ohe)"
   ]
  },
  {
   "cell_type": "markdown",
   "metadata": {
    "id": "h6i4dDglVbbO"
   },
   "source": [
    "Создадим датасеты без использования OneHotEncoder для метода ближайших соседей и байесовского классификатора. Также применим к ним MinMaxScaler и StandartScaler."
   ]
  },
  {
   "cell_type": "code",
   "execution_count": 19,
   "metadata": {
    "id": "9et88UOXVbbO"
   },
   "outputs": [],
   "source": [
    "X_mm = mm_scaler.fit_transform(X)\n",
    "\n",
    "s_scaler = preprocessing.StandardScaler()\n",
    "X_ss = s_scaler.fit_transform(X)"
   ]
  },
  {
   "cell_type": "markdown",
   "metadata": {
    "id": "AuCP5A6HVbbQ"
   },
   "source": [
    "### Логистическая регрессия"
   ]
  },
  {
   "cell_type": "code",
   "execution_count": 22,
   "metadata": {
    "id": "py87TTkLVbbQ"
   },
   "outputs": [],
   "source": [
    "from sklearn.linear_model import LogisticRegression\n",
    "from sklearn.metrics import classification_report\n",
    "from sklearn.model_selection import train_test_split\n",
    "\n",
    "X_train, X_test, y_train, y_test = train_test_split(X_ohe, y, test_size=0.25, shuffle=False)\n",
    "\n",
    "model = LogisticRegression()"
   ]
  },
  {
   "cell_type": "code",
   "execution_count": 107,
   "metadata": {
    "colab": {
     "base_uri": "https://localhost:8080/"
    },
    "id": "HKOhMGd1tug0",
    "outputId": "aafde836-c20d-4efb-b122-db33b453a0e7"
   },
   "outputs": [
    {
     "name": "stdout",
     "output_type": "stream",
     "text": [
      "1 loop, best of 5: 2.81 s per loop\n"
     ]
    }
   ],
   "source": [
    "%%timeit -n1\n",
    "model.fit(X_train, y_train)"
   ]
  },
  {
   "cell_type": "code",
   "execution_count": 108,
   "metadata": {
    "colab": {
     "base_uri": "https://localhost:8080/"
    },
    "id": "8sv5dAxstuQL",
    "outputId": "2f430573-dcd4-486c-bf54-25ea9db05dbc"
   },
   "outputs": [
    {
     "name": "stdout",
     "output_type": "stream",
     "text": [
      "1 loop, best of 5: 3.79 ms per loop\n"
     ]
    }
   ],
   "source": [
    "%%timeit -n1\n",
    "y_predict = model.predict(X_test)"
   ]
  },
  {
   "cell_type": "code",
   "execution_count": 23,
   "metadata": {
    "colab": {
     "base_uri": "https://localhost:8080/"
    },
    "id": "ZkrCFDJTVbbQ",
    "outputId": "b890741e-6cc4-4243-c1e6-d2ce9daf123a",
    "scrolled": true
   },
   "outputs": [
    {
     "name": "stdout",
     "output_type": "stream",
     "text": [
      "              precision    recall  f1-score   support\n",
      "\n",
      "           0       0.87      0.96      0.91     27882\n",
      "           1       0.75      0.47      0.58      7667\n",
      "\n",
      "    accuracy                           0.85     35549\n",
      "   macro avg       0.81      0.71      0.74     35549\n",
      "weighted avg       0.84      0.85      0.84     35549\n",
      "\n"
     ]
    }
   ],
   "source": [
    "model.fit(X_train, y_train)\n",
    "\n",
    "print(classification_report(y_test, model.predict(X_test)))"
   ]
  },
  {
   "cell_type": "markdown",
   "metadata": {
    "id": "ZjhKoV2oVbbQ"
   },
   "source": [
    "### Метод ближайших соседей"
   ]
  },
  {
   "cell_type": "markdown",
   "metadata": {
    "id": "QuPTTDKHVbbQ"
   },
   "source": [
    "Рассмотрим как разные методы масштабирования данных влияют на качество метода ближайших соседей."
   ]
  },
  {
   "cell_type": "code",
   "execution_count": 110,
   "metadata": {
    "id": "6uQu9hRwVbbQ"
   },
   "outputs": [],
   "source": [
    "from sklearn.neighbors import KNeighborsClassifier\n",
    "\n",
    "model = KNeighborsClassifier(n_neighbors=1)"
   ]
  },
  {
   "cell_type": "code",
   "execution_count": 111,
   "metadata": {
    "colab": {
     "base_uri": "https://localhost:8080/"
    },
    "id": "cH9Ia02dflDZ",
    "outputId": "c4a00d1e-1530-43f5-b0ca-4eecdaf0babc"
   },
   "outputs": [
    {
     "name": "stdout",
     "output_type": "stream",
     "text": [
      "1 loop, best of 5: 12.1 ms per loop\n"
     ]
    }
   ],
   "source": [
    "%%timeit -n1\n",
    "model.fit(X_train, y_train)"
   ]
  },
  {
   "cell_type": "code",
   "execution_count": 112,
   "metadata": {
    "colab": {
     "base_uri": "https://localhost:8080/"
    },
    "id": "p2JPw5N5uMoi",
    "outputId": "76703bcb-647a-4233-dfeb-9e3e124baf17"
   },
   "outputs": [
    {
     "name": "stdout",
     "output_type": "stream",
     "text": [
      "1 loop, best of 5: 48.4 s per loop\n"
     ]
    }
   ],
   "source": [
    "%%timeit -n1\n",
    "y_predict = model.predict(X_test)"
   ]
  },
  {
   "cell_type": "code",
   "execution_count": 113,
   "metadata": {
    "colab": {
     "base_uri": "https://localhost:8080/"
    },
    "id": "mfYAO-eCVbbR",
    "outputId": "60d0a474-a518-4fb3-e727-2d4df056f14b",
    "scrolled": false
   },
   "outputs": [
    {
     "name": "stdout",
     "output_type": "stream",
     "text": [
      "                    Without scaler:\n",
      "n_neighbors: 2\n",
      "              precision    recall  f1-score   support\n",
      "\n",
      "           0       0.83      0.96      0.89     27882\n",
      "           1       0.68      0.31      0.43      7667\n",
      "\n",
      "    accuracy                           0.82     35549\n",
      "   macro avg       0.76      0.63      0.66     35549\n",
      "weighted avg       0.80      0.82      0.79     35549\n",
      "\n",
      "n_neighbors: 5\n",
      "              precision    recall  f1-score   support\n",
      "\n",
      "           0       0.86      0.94      0.90     27882\n",
      "           1       0.66      0.45      0.54      7667\n",
      "\n",
      "    accuracy                           0.83     35549\n",
      "   macro avg       0.76      0.69      0.72     35549\n",
      "weighted avg       0.82      0.83      0.82     35549\n",
      "\n",
      "n_neighbors: 10\n",
      "              precision    recall  f1-score   support\n",
      "\n",
      "           0       0.85      0.96      0.90     27882\n",
      "           1       0.75      0.39      0.52      7667\n",
      "\n",
      "    accuracy                           0.84     35549\n",
      "   macro avg       0.80      0.68      0.71     35549\n",
      "weighted avg       0.83      0.84      0.82     35549\n",
      "\n",
      "n_neighbors: 15\n",
      "              precision    recall  f1-score   support\n",
      "\n",
      "           0       0.86      0.96      0.91     27882\n",
      "           1       0.74      0.43      0.54      7667\n",
      "\n",
      "    accuracy                           0.84     35549\n",
      "   macro avg       0.80      0.69      0.72     35549\n",
      "weighted avg       0.83      0.84      0.83     35549\n",
      "\n",
      "n_neighbors: 30\n",
      "              precision    recall  f1-score   support\n",
      "\n",
      "           0       0.85      0.97      0.91     27882\n",
      "           1       0.78      0.39      0.52      7667\n",
      "\n",
      "    accuracy                           0.85     35549\n",
      "   macro avg       0.82      0.68      0.72     35549\n",
      "weighted avg       0.84      0.85      0.83     35549\n",
      "\n"
     ]
    }
   ],
   "source": [
    "X_train, X_test, y_train, y_test = train_test_split(X, y, test_size=0.25, shuffle=False)\n",
    "\n",
    "print(\" \" * 20 + \"Without scaler:\")\n",
    "for i in [2, 5, 10, 15, 30]:\n",
    "    model = KNeighborsClassifier(n_neighbors=i)\n",
    "    model.fit(X_train, y_train)\n",
    "    print(\"n_neighbors:\", i)\n",
    "    print(classification_report(y_test, model.predict(X_test)))"
   ]
  },
  {
   "cell_type": "code",
   "execution_count": 114,
   "metadata": {
    "colab": {
     "base_uri": "https://localhost:8080/"
    },
    "id": "5vuivZh4VbbR",
    "outputId": "9757d745-27e0-4cec-c77c-26d7b3a27531",
    "scrolled": false
   },
   "outputs": [
    {
     "name": "stdout",
     "output_type": "stream",
     "text": [
      "                    MinMaxScaler:\n",
      "n_neighbors: 1\n",
      "              precision    recall  f1-score   support\n",
      "\n",
      "           0       0.86      0.88      0.87     27882\n",
      "           1       0.51      0.46      0.48      7667\n",
      "\n",
      "    accuracy                           0.79     35549\n",
      "   macro avg       0.68      0.67      0.67     35549\n",
      "weighted avg       0.78      0.79      0.78     35549\n",
      "\n",
      "n_neighbors: 2\n",
      "              precision    recall  f1-score   support\n",
      "\n",
      "           0       0.83      0.96      0.89     27882\n",
      "           1       0.68      0.28      0.39      7667\n",
      "\n",
      "    accuracy                           0.82     35549\n",
      "   macro avg       0.75      0.62      0.64     35549\n",
      "weighted avg       0.80      0.82      0.78     35549\n",
      "\n",
      "n_neighbors: 5\n",
      "              precision    recall  f1-score   support\n",
      "\n",
      "           0       0.86      0.94      0.90     27882\n",
      "           1       0.66      0.43      0.52      7667\n",
      "\n",
      "    accuracy                           0.83     35549\n",
      "   macro avg       0.76      0.68      0.71     35549\n",
      "weighted avg       0.81      0.83      0.81     35549\n",
      "\n",
      "n_neighbors: 10\n",
      "              precision    recall  f1-score   support\n",
      "\n",
      "           0       0.85      0.97      0.90     27882\n",
      "           1       0.75      0.36      0.48      7667\n",
      "\n",
      "    accuracy                           0.84     35549\n",
      "   macro avg       0.80      0.66      0.69     35549\n",
      "weighted avg       0.82      0.84      0.81     35549\n",
      "\n",
      "n_neighbors: 15\n",
      "              precision    recall  f1-score   support\n",
      "\n",
      "           0       0.85      0.96      0.90     27882\n",
      "           1       0.74      0.39      0.51      7667\n",
      "\n",
      "    accuracy                           0.84     35549\n",
      "   macro avg       0.79      0.68      0.71     35549\n",
      "weighted avg       0.83      0.84      0.82     35549\n",
      "\n",
      "n_neighbors: 30\n",
      "              precision    recall  f1-score   support\n",
      "\n",
      "           0       0.84      0.97      0.90     27882\n",
      "           1       0.77      0.35      0.48      7667\n",
      "\n",
      "    accuracy                           0.84     35549\n",
      "   macro avg       0.81      0.66      0.69     35549\n",
      "weighted avg       0.83      0.84      0.81     35549\n",
      "\n"
     ]
    }
   ],
   "source": [
    "X_train, X_test, y_train, y_test = train_test_split(X_mm, y, test_size=0.25, shuffle=False)\n",
    "\n",
    "print(\" \" * 20 + \"MinMaxScaler:\")\n",
    "for i in [1, 2, 5, 10, 15, 30]:\n",
    "    model = KNeighborsClassifier(n_neighbors=i)\n",
    "    model.fit(X_train, y_train)\n",
    "    print(\"n_neighbors:\", i)\n",
    "    print(classification_report(y_test, model.predict(X_test)))"
   ]
  },
  {
   "cell_type": "code",
   "execution_count": 115,
   "metadata": {
    "colab": {
     "base_uri": "https://localhost:8080/"
    },
    "id": "AjUgZqtGVbbR",
    "outputId": "2201bfbb-7f99-4293-afeb-7c13a0a73391",
    "scrolled": false
   },
   "outputs": [
    {
     "name": "stdout",
     "output_type": "stream",
     "text": [
      "                    StandartScaler:\n",
      "n_neighbors: 2\n",
      "              precision    recall  f1-score   support\n",
      "\n",
      "           0       0.83      0.96      0.89     27882\n",
      "           1       0.66      0.28      0.39      7667\n",
      "\n",
      "    accuracy                           0.81     35549\n",
      "   macro avg       0.74      0.62      0.64     35549\n",
      "weighted avg       0.79      0.81      0.78     35549\n",
      "\n",
      "n_neighbors: 5\n",
      "              precision    recall  f1-score   support\n",
      "\n",
      "           0       0.86      0.93      0.89     27882\n",
      "           1       0.63      0.43      0.51      7667\n",
      "\n",
      "    accuracy                           0.82     35549\n",
      "   macro avg       0.75      0.68      0.70     35549\n",
      "weighted avg       0.81      0.82      0.81     35549\n",
      "\n",
      "n_neighbors: 10\n",
      "              precision    recall  f1-score   support\n",
      "\n",
      "           0       0.85      0.96      0.90     27882\n",
      "           1       0.73      0.37      0.49      7667\n",
      "\n",
      "    accuracy                           0.83     35549\n",
      "   macro avg       0.79      0.66      0.69     35549\n",
      "weighted avg       0.82      0.83      0.81     35549\n",
      "\n",
      "n_neighbors: 15\n",
      "              precision    recall  f1-score   support\n",
      "\n",
      "           0       0.86      0.96      0.90     27882\n",
      "           1       0.72      0.41      0.52      7667\n",
      "\n",
      "    accuracy                           0.84     35549\n",
      "   macro avg       0.79      0.68      0.71     35549\n",
      "weighted avg       0.83      0.84      0.82     35549\n",
      "\n",
      "n_neighbors: 30\n",
      "              precision    recall  f1-score   support\n",
      "\n",
      "           0       0.85      0.97      0.90     27882\n",
      "           1       0.76      0.37      0.50      7667\n",
      "\n",
      "    accuracy                           0.84     35549\n",
      "   macro avg       0.80      0.67      0.70     35549\n",
      "weighted avg       0.83      0.84      0.82     35549\n",
      "\n"
     ]
    }
   ],
   "source": [
    "X_train, X_test, y_train, y_test = train_test_split(X_ss, y, test_size=0.25, shuffle=False)\n",
    "\n",
    "print(\" \" * 20 + \"StandartScaler:\")\n",
    "for i in [2, 5, 10, 15, 30]:\n",
    "    model = KNeighborsClassifier(n_neighbors=i)\n",
    "    model.fit(X_train, y_train)\n",
    "    print(\"n_neighbors:\", i)\n",
    "    print(classification_report(y_test, model.predict(X_test)))"
   ]
  },
  {
   "cell_type": "markdown",
   "metadata": {
    "id": "wgErN3ORVbbR"
   },
   "source": [
    "###  Байесовский классификатор"
   ]
  },
  {
   "cell_type": "code",
   "execution_count": 116,
   "metadata": {
    "id": "U1gltoJlVbbS"
   },
   "outputs": [],
   "source": [
    "from sklearn.naive_bayes import GaussianNB\n",
    "\n",
    "model = GaussianNB()"
   ]
  },
  {
   "cell_type": "code",
   "execution_count": 117,
   "metadata": {
    "colab": {
     "base_uri": "https://localhost:8080/"
    },
    "id": "G53reQ6ziHAE",
    "outputId": "aaa9e6bd-e9ae-4667-f6dd-efe18dec8822"
   },
   "outputs": [
    {
     "name": "stdout",
     "output_type": "stream",
     "text": [
      "1 loop, best of 5: 46.8 ms per loop\n"
     ]
    }
   ],
   "source": [
    "%%timeit -n1\n",
    "model.fit(X_train, y_train)"
   ]
  },
  {
   "cell_type": "code",
   "execution_count": 118,
   "metadata": {
    "colab": {
     "base_uri": "https://localhost:8080/"
    },
    "id": "90E7zGLAuSLI",
    "outputId": "23e72ae6-58b4-451f-f2f7-08be8a85355a"
   },
   "outputs": [
    {
     "name": "stdout",
     "output_type": "stream",
     "text": [
      "1 loop, best of 5: 10.9 ms per loop\n"
     ]
    }
   ],
   "source": [
    "%%timeit -n1\n",
    "y_predict = model.predict(X_test)"
   ]
  },
  {
   "cell_type": "code",
   "execution_count": 119,
   "metadata": {
    "colab": {
     "base_uri": "https://localhost:8080/"
    },
    "id": "7J5_CytAVbbS",
    "outputId": "aa9b0abe-32f1-4391-e446-3ef8e4b4d2f9"
   },
   "outputs": [
    {
     "name": "stdout",
     "output_type": "stream",
     "text": [
      "                    Without Scaler:\n",
      "              precision    recall  f1-score   support\n",
      "\n",
      "           0       0.88      0.91      0.89     27882\n",
      "           1       0.62      0.56      0.59      7667\n",
      "\n",
      "    accuracy                           0.83     35549\n",
      "   macro avg       0.75      0.73      0.74     35549\n",
      "weighted avg       0.83      0.83      0.83     35549\n",
      "\n"
     ]
    }
   ],
   "source": [
    "X_train, X_test, y_train, y_test = train_test_split(X, y, test_size=0.25, shuffle=False)\n",
    "model.fit(X_train, y_train)\n",
    "\n",
    "print(\" \" * 20 + \"Without Scaler:\")\n",
    "print(classification_report(y_test, model.predict(X_test)))"
   ]
  },
  {
   "cell_type": "code",
   "execution_count": 120,
   "metadata": {
    "colab": {
     "base_uri": "https://localhost:8080/"
    },
    "id": "j_CQkBVjVbbS",
    "outputId": "aa8cc81b-5267-48dd-ffb8-8b0236f34efd"
   },
   "outputs": [
    {
     "name": "stdout",
     "output_type": "stream",
     "text": [
      "                    MinMaxScaler:\n",
      "              precision    recall  f1-score   support\n",
      "\n",
      "           0       0.88      0.91      0.89     27882\n",
      "           1       0.62      0.56      0.59      7667\n",
      "\n",
      "    accuracy                           0.83     35549\n",
      "   macro avg       0.75      0.73      0.74     35549\n",
      "weighted avg       0.83      0.83      0.83     35549\n",
      "\n"
     ]
    }
   ],
   "source": [
    "X_train, X_test, y_train, y_test = train_test_split(X_mm, y, test_size=0.25, shuffle=False)\n",
    "model.fit(X_train, y_train)\n",
    "\n",
    "print(\" \" * 20 + \"MinMaxScaler:\")\n",
    "print(classification_report(y_test, model.predict(X_test)))"
   ]
  },
  {
   "cell_type": "code",
   "execution_count": 121,
   "metadata": {
    "colab": {
     "base_uri": "https://localhost:8080/"
    },
    "id": "gCgLcsImVbbS",
    "outputId": "3b9e8b4c-95da-4427-a732-61ab71520ca9"
   },
   "outputs": [
    {
     "name": "stdout",
     "output_type": "stream",
     "text": [
      "                    StandartScaler:\n",
      "              precision    recall  f1-score   support\n",
      "\n",
      "           0       0.88      0.91      0.89     27882\n",
      "           1       0.62      0.56      0.59      7667\n",
      "\n",
      "    accuracy                           0.83     35549\n",
      "   macro avg       0.75      0.73      0.74     35549\n",
      "weighted avg       0.83      0.83      0.83     35549\n",
      "\n"
     ]
    }
   ],
   "source": [
    "X_train, X_test, y_train, y_test = train_test_split(X_ss, y, test_size=0.25, shuffle=False)\n",
    "model.fit(X_train, y_train)\n",
    "\n",
    "print(\" \" * 20 + \"StandartScaler:\")\n",
    "print(classification_report(y_test, model.predict(X_test)))"
   ]
  },
  {
   "cell_type": "markdown",
   "metadata": {
    "id": "QPK9GfdWoLU7"
   },
   "source": [
    "Вывод\n",
    "\n",
    "Метрики разных моделей:\n",
    "1. Логистическая регрессия: f1 = 0.91 для 0 и f1 = 0.58 для 1 \n",
    "2. Метод ближайших соседей: 0.91 и 0.54 (без масштабирования данных и n_neighbors = 15)\n",
    "3. Байесовский классификатор: 0.89 и 0.59\n",
    "\n",
    "В данной задаче лучше всего себя показала логистическая регрессия. У этой  \n",
    "модели довольно высокие показатели precision (0.87 и 0.75) и хорошие показатели recall (0.96 и 0.47). Метрики других моделей немного хуже. При этом метод ближайших соседей работает на порядок дольше логистической регресси, и на несколько порядков дольше байесовского классификатора, поэтому я думаю что данный метод не подходит для данной задачи. Байесовский классификатор имеет самую низкую точность для класса 1, но время его работы значительно ниже чем у других алгоритмов, поэтому в задачах где важна скорость выполнения целесообразнее использовать данный метод машинного обучения.\n"
   ]
  },
  {
   "cell_type": "markdown",
   "metadata": {
    "id": "KK_h8azJVbbS"
   },
   "source": [
    "### Реализация логистической регрессии\n",
    "__Логистическая регрессия__\n",
    "\n",
    "$$p(y|x) = a(x, \\theta) = \\sigma(\\langle x, \\theta \\rangle) = \\frac{1}{1 + \\exp(-\\langle \\theta, x_i \\rangle)}$$"
   ]
  },
  {
   "cell_type": "code",
   "execution_count": 122,
   "metadata": {
    "id": "esZhlNh4VbbT"
   },
   "outputs": [],
   "source": [
    "theta = np.array([1, 2, 3])\n",
    "\n",
    "X =  np.array([[ 1,  1, 1],\n",
    "               [-1, -2, 1],\n",
    "               [-1, -2, 2],\n",
    "               [-2, -2, -3]\n",
    "              ])\n",
    "\n",
    "y = np.array([1, 1, -1, -1])"
   ]
  },
  {
   "cell_type": "code",
   "execution_count": 123,
   "metadata": {
    "colab": {
     "base_uri": "https://localhost:8080/",
     "height": 366
    },
    "id": "ER8lHnusVbbT",
    "outputId": "921d16e5-3370-43b2-b012-e047e7f6c2fa"
   },
   "outputs": [],
   "source": [
    "import math\n",
    "\n",
    "def probability(theta, X):\n",
    "    result = np.zeros(X.shape[0])\n",
    "    for i in range(result.size):\n",
    "        result[i] = 1 / (1 + math.exp(-np.dot(X[i], theta)))\n",
    "    return result\n",
    "prob = probability(theta, X)\n",
    "\n",
    "\n",
    "assert type(prob) == np.ndarray, 'Возвращается неверный тип'\n",
    "assert prob.shape == (X.shape[0],), 'Неверный размер массива'\n",
    "assert (prob.round(3) == [0.998, 0.119, 0.731, 0.]).all(), 'Функция считается неверно'"
   ]
  },
  {
   "cell_type": "markdown",
   "metadata": {
    "id": "RpvKmky7VbbT"
   },
   "source": [
    "Функция предсказания метки класса, получает на вход вероятности принадлежности к классу 1 и выдает метки классов $y \\in \\{0, 1\\}$"
   ]
  },
  {
   "cell_type": "code",
   "execution_count": 128,
   "metadata": {
    "id": "pjTQ6DXGVbbT",
    "scrolled": true
   },
   "outputs": [],
   "source": [
    "def binary_class_prediction(theta, X, threshold =.5):\n",
    "    prob =  probability(theta, X)\n",
    "    result = np.zeros_like(prob)\n",
    "    result[prob.round(3) <= 0] = -1\n",
    "    result[prob.round(3) > 0] = 1\n",
    "    return result\n",
    "\n",
    "y_pred = binary_class_prediction(theta, X)\n",
    "\n",
    "\n",
    "assert type(y_pred) == np.ndarray, 'Возвращается неверный тип'\n",
    "assert y_pred.shape == (X.shape[0],), 'Неверный размер массива'\n",
    "assert min(y_pred) == -1, 'Функция считается неверно'\n",
    "assert max(y_pred) == 1, 'Функция считается неверно'"
   ]
  },
  {
   "cell_type": "markdown",
   "metadata": {
    "id": "mxZmJPNwVbbT"
   },
   "source": [
    "__Функционал качества логистической регрессии__\n",
    "\n",
    "Запишем правдободовие выборки для меток класса $y \\in \\{+1, -1\\}$ \n",
    "\n",
    "$$Likelihood(a, X^\\ell) = \\prod_{i = 1}^{\\ell} a(x_i,\\theta)^{[y_i = +1]} (1 - a(x_i, \\theta))^{[y_i = -1]} → \\operatorname*{max}_{\\theta}$$ \n",
    "\n",
    "Прологарифмируем правдоподобие выборки и перейдем к задаче минимизации:\n",
    "\n",
    "$$Q(a, X^\\ell) =     -\\sum_{i = 1}^{\\ell} \n",
    "        [y_i = +1] \\log a(x_i, \\theta)\n",
    "        +\n",
    "        [y_i = -1] \\log (1 - a(x_i, \\theta)) \\to \\operatorname*{min}_{\\theta}$$ \n",
    "        \n",
    "Подставим $a(x, \\theta)$ в функцинал качества:\n",
    "\n",
    "$$ Q(a, X^\\ell) = -\\sum_{i = 1}^{\\ell} \\left(\n",
    "    [y_i = +1]\n",
    "    \\log \\frac{1}{1 + \\exp(-\\langle \\theta, x_i \\rangle)}\n",
    "    +\n",
    "    [y_i = -1]\n",
    "    \\log \\frac{\\exp(-\\langle \\theta, x_i \\rangle)}{1 + \\exp(-\\langle \\theta, x_i \\rangle)}\n",
    "\\right)\n",
    "=\\\\\n",
    "=\n",
    "-\\sum_{i = 1}^{\\ell} \\left(\n",
    "    [y_i = +1]\n",
    "    \\log \\frac{1}{1 + \\exp(-\\langle \\theta, x_i \\rangle)}\n",
    "    +\n",
    "    [y_i = -1]\n",
    "    \\log \\frac{1}{1 + \\exp(\\langle \\theta, x_i \\rangle)}\n",
    "\\right)\n",
    "=\\\\\n",
    "=\n",
    "\\sum_{i = 1}^{\\ell}\n",
    "    \\log \\left(\n",
    "        1 + \\exp(-y_i \\langle \\theta, x_i \\rangle)\n",
    "    \\right) $$\n",
    "    "
   ]
  },
  {
   "cell_type": "markdown",
   "metadata": {
    "id": "DbabF5b6VbbU"
   },
   "source": [
    "Итоговый оптимизируемый функционал качества (logloss), записанный для меток классов $y \\in \\{+1, -1\\}$ и усредненный по выборке"
   ]
  },
  {
   "cell_type": "markdown",
   "metadata": {
    "id": "QG-6ELmMVbbU"
   },
   "source": [
    "$$Q(a, X^\\ell) = \\frac{1}{\\ell}\\sum_{i = 1}^{\\ell}\n",
    "    \\log \\left(\n",
    "        1 + \\exp(-y_i \\langle \\theta, x_i \\rangle)\n",
    "    \\right) \\to \\operatorname*{min}_{\\theta}$$"
   ]
  },
  {
   "cell_type": "markdown",
   "metadata": {
    "id": "wwLPu7t0VbbU"
   },
   "source": [
    "Реализуем его в функции logloss:"
   ]
  },
  {
   "cell_type": "code",
   "execution_count": 125,
   "metadata": {
    "id": "ir9tnkJJVbbU"
   },
   "outputs": [],
   "source": [
    "def logloss(theta, X, y): \n",
    "    result = 0\n",
    "    for i in range(y.size):\n",
    "        result += np.log(1 + math.exp(- y[i] * np.dot(theta, X[i])))\n",
    "    result /= y.size\n",
    "    return result"
   ]
  },
  {
   "cell_type": "code",
   "execution_count": 126,
   "metadata": {
    "id": "mQgPaSwUVbbU"
   },
   "outputs": [],
   "source": [
    "assert logloss(theta, X, y).round(3) == 0.861, 'Функция считается неверно'"
   ]
  },
  {
   "cell_type": "markdown",
   "metadata": {
    "id": "W5ZrGF5sVbbU"
   },
   "source": [
    "__Алгоритм оптимизации функционала качества. Стохастический градиентный спуск__"
   ]
  },
  {
   "cell_type": "markdown",
   "metadata": {
    "id": "b10RmOCVVbbU"
   },
   "source": [
    "<b>Вход: </b> Выборка $X^\\ell$, темп обучения $h$\n",
    "\n",
    "<b>Выход: </b> оптимальный вектор весов $\\theta$\n",
    "\n",
    "1.  Инициализировать веса $\\theta$\n",
    "2.  Инициализировать оценку функционала качества: $Q(a, X^\\ell)$\n",
    "3.  <b>Повторять</b>: \n",
    "\n",
    "    Выбрать случайным образом подвыборку объектов $X^{batch} =\\{x_1, \\dots,x_n \\}$ из $X^{\\ell}$\n",
    "    \n",
    "    Рассчитать градиент функционала качества: $\\nabla Q(X^{batch}, \\theta)$\n",
    "    \n",
    "    Обновить веса: $\\theta := \\theta - h\\cdot \\nabla Q(X^{batch}, \\theta)$\n",
    "       \n",
    "    <b>Пока</b> значение $Q$ и/или веса $\\theta$ не сойдутся   "
   ]
  },
  {
   "cell_type": "markdown",
   "metadata": {
    "id": "z6QF8YtOVbbV"
   },
   "source": [
    "Реализуем функцию рассчета градиента функционала качества"
   ]
  },
  {
   "cell_type": "markdown",
   "metadata": {
    "id": "w9dAuux8VbbV"
   },
   "source": [
    "$$\\frac{\\partial Q(a, X^{batch}) }{\\partial \\theta_j}   = \\frac{\\partial \\frac{1}{n}\\sum_{i = 1}^{n}\n",
    "    \\log \\left(\n",
    "        1 + \\exp(- y_i \\langle \\theta, x_i \\rangle)\n",
    "    \\right)} {\\partial \\theta_j}  = \\frac{1}{n}\\sum_{i = 1}^{n}\n",
    "     \\frac {1}{\n",
    "        1 + \\exp(- y_i \\langle \\theta, x_i \\rangle)} \\cdot  \\exp(- y_i \\langle \\theta, x_i \\rangle) \\cdot -y_i x_{ij}$$"
   ]
  },
  {
   "cell_type": "markdown",
   "metadata": {
    "id": "CbAY0ktlVbbV"
   },
   "source": [
    "Реализуйте рассчет градиента в матричном виде:"
   ]
  },
  {
   "cell_type": "code",
   "execution_count": 127,
   "metadata": {
    "id": "A5T2XEOsVbbV"
   },
   "outputs": [
    {
     "name": "stdout",
     "output_type": "stream",
     "text": [
      "\n"
     ]
    },
    {
     "ename": "UFuncTypeError",
     "evalue": "Cannot cast ufunc 'add' output from dtype('float64') to dtype('int64') with casting rule 'same_kind'",
     "output_type": "error",
     "traceback": [
      "\u001b[0;31m---------------------------------------------------------------------------\u001b[0m",
      "\u001b[0;31mUFuncTypeError\u001b[0m                            Traceback (most recent call last)",
      "Input \u001b[0;32mIn [127]\u001b[0m, in \u001b[0;36m<cell line: 11>\u001b[0;34m()\u001b[0m\n\u001b[1;32m      8\u001b[0m     result \u001b[38;5;241m/\u001b[39m\u001b[38;5;241m=\u001b[39m y\u001b[38;5;241m.\u001b[39msize\n\u001b[1;32m      9\u001b[0m     \u001b[38;5;28;01mreturn\u001b[39;00m result \n\u001b[0;32m---> 11\u001b[0m \u001b[38;5;28;01massert\u001b[39;00m \u001b[43mgradient\u001b[49m\u001b[43m(\u001b[49m\u001b[43mtheta\u001b[49m\u001b[43m,\u001b[49m\u001b[43m \u001b[49m\u001b[43mX\u001b[49m\u001b[43m,\u001b[49m\u001b[43m \u001b[49m\u001b[43my\u001b[49m\u001b[43m)\u001b[49m\u001b[38;5;241m.\u001b[39mshape \u001b[38;5;241m==\u001b[39m theta\u001b[38;5;241m.\u001b[39mshape, \u001b[38;5;124m'\u001b[39m\u001b[38;5;124mНеверный размер массива\u001b[39m\u001b[38;5;124m'\u001b[39m\n",
      "Input \u001b[0;32mIn [127]\u001b[0m, in \u001b[0;36mgradient\u001b[0;34m(theta, X, y)\u001b[0m\n\u001b[1;32m      5\u001b[0m result \u001b[38;5;241m=\u001b[39m theta\u001b[38;5;241m.\u001b[39mcopy()\n\u001b[1;32m      6\u001b[0m \u001b[38;5;28;01mfor\u001b[39;00m i \u001b[38;5;129;01min\u001b[39;00m \u001b[38;5;28mrange\u001b[39m(y\u001b[38;5;241m.\u001b[39msize):\n\u001b[0;32m----> 7\u001b[0m     result \u001b[38;5;241m+\u001b[39m\u001b[38;5;241m=\u001b[39m math\u001b[38;5;241m.\u001b[39mexp(\u001b[38;5;241m-\u001b[39m y[i] \u001b[38;5;241m*\u001b[39m np\u001b[38;5;241m.\u001b[39mdot(theta, X[i])) \u001b[38;5;241m*\u001b[39m y[i] \u001b[38;5;241m*\u001b[39m X[i] \u001b[38;5;241m/\u001b[39m (\u001b[38;5;241m1\u001b[39m \u001b[38;5;241m+\u001b[39m math\u001b[38;5;241m.\u001b[39mexp(\u001b[38;5;241m-\u001b[39m y[i] \u001b[38;5;241m*\u001b[39m np\u001b[38;5;241m.\u001b[39mdot(theta, X[i])))\n\u001b[1;32m      8\u001b[0m result \u001b[38;5;241m/\u001b[39m\u001b[38;5;241m=\u001b[39m y\u001b[38;5;241m.\u001b[39msize\n\u001b[1;32m      9\u001b[0m \u001b[38;5;28;01mreturn\u001b[39;00m result\n",
      "\u001b[0;31mUFuncTypeError\u001b[0m: Cannot cast ufunc 'add' output from dtype('float64') to dtype('int64') with casting rule 'same_kind'"
     ]
    }
   ],
   "source": [
    "print()\n",
    "def gradient(theta, X, y):\n",
    "    h = 1\n",
    "    n = np.random.randint(1, X.shape[0])\n",
    "    result = theta.copy()\n",
    "    for i in range(y.size):\n",
    "        result += math.exp(- y[i] * np.dot(theta, X[i])) * y[i] * X[i] / (1 + math.exp(- y[i] * np.dot(theta, X[i])))\n",
    "    result /= y.size\n",
    "    return result \n",
    "\n",
    "assert gradient(theta, X, y).shape == theta.shape, 'Неверный размер массива'"
   ]
  },
  {
   "cell_type": "markdown",
   "metadata": {
    "id": "JyKAfKyFVbbV"
   },
   "source": [
    "Функция обучения уже реализована"
   ]
  },
  {
   "cell_type": "code",
   "execution_count": null,
   "metadata": {
    "id": "f3jXdprQVbbW"
   },
   "outputs": [],
   "source": [
    "def fit(X, y, batch_size=10, h=0.05,  iters=100, plot=True):\n",
    "\n",
    "    # получаем размерности матрицы\n",
    "    size, dim = X.shape\n",
    "\n",
    "    # случайная начальная инициализация\n",
    "    theta = np.random.uniform(size=dim)\n",
    "    \n",
    "    errors = []\n",
    "    \n",
    "    theta_history = theta\n",
    "    colors = [plt.get_cmap('gist_rainbow')(i) for i in np.linspace(0,1,dim)]\n",
    "    \n",
    "    # plt \n",
    "    if plot:\n",
    "        fig = plt.figure(figsize=(15, 10))\n",
    "        ax1 = fig.add_subplot(221)\n",
    "        ax2 = fig.add_subplot(222)\n",
    "        ax3 = fig.add_subplot(212)\n",
    "        fig.suptitle('Gradient descent')\n",
    "        \n",
    "        \n",
    "    for _ in range(iters):  \n",
    "        \n",
    "        # берём случайный набор элементов\n",
    "        batch = np.random.choice(size, batch_size, replace=False)\n",
    "        X_batch = X[batch]\n",
    "        y_batch = y[batch]\n",
    "\n",
    "        # считаем производные\n",
    "        grad = gradient(theta, X_batch, y_batch)\n",
    "        \n",
    "        assert type(grad) == np.ndarray, 'неверный тип'\n",
    "        assert len(grad.shape) == 1, 'Необходимо вернуть одномерный вектор'\n",
    "        assert grad.shape[0] == len(theta), 'длина вектора должна быть равной количеству весов'\n",
    "        \n",
    "        \n",
    "        # Обновляем веса\n",
    "        \n",
    "        theta -= grad * h\n",
    "        \n",
    "        theta_history = np.vstack((theta_history, theta))\n",
    "        \n",
    "        # error\n",
    "        loss = logloss(theta, X, y)\n",
    "        errors.append(loss)\n",
    "        \n",
    "        if plot:\n",
    "            ax1.clear()            \n",
    "            ax1.scatter(range(dim), theta, label='Gradient solution')\n",
    "            ax1.legend(loc=\"upper left\")\n",
    "            ax1.set_title('theta')\n",
    "            ax1.set_ylabel(r'$\\bar \\beta$')\n",
    "            ax1.set_xlabel('weight ID')\n",
    "            \n",
    "            \n",
    "            ax2.plot(range(_+1), errors, 'g-')\n",
    "            ax2.set_title('logloss')\n",
    "            ax2.set_xlabel('itarations')\n",
    "            \n",
    "            ax3.plot(theta_history)\n",
    "            ax3.set_title('update theta')\n",
    "            ax3.set_ylabel('value')\n",
    "            ax3.set_xlabel('itarations')\n",
    "            time.sleep(0.05)\n",
    "            fig.canvas.draw()   \n",
    "            \n",
    "    return theta"
   ]
  },
  {
   "cell_type": "code",
   "execution_count": null,
   "metadata": {
    "id": "PhUFHj4CVbbW"
   },
   "outputs": [],
   "source": [
    "X, y = make_classification(n_samples=2000)"
   ]
  },
  {
   "cell_type": "code",
   "execution_count": null,
   "metadata": {
    "id": "HP3MYKFvVbbW"
   },
   "outputs": [],
   "source": [
    "optimal_theta = fit(X, y)"
   ]
  },
  {
   "cell_type": "code",
   "execution_count": null,
   "metadata": {
    "id": "XiWrdgL7VbbW"
   },
   "outputs": [],
   "source": [
    "y_pred = binary_class_prediction(optimal_theta, X)"
   ]
  }
 ],
 "metadata": {
  "colab": {
   "collapsed_sections": [
    "KK_h8azJVbbS"
   ],
   "name": "ДЗ2.ipynb",
   "provenance": []
  },
  "kernelspec": {
   "display_name": "Python 3 (ipykernel)",
   "language": "python",
   "name": "python3"
  },
  "language_info": {
   "codemirror_mode": {
    "name": "ipython",
    "version": 3
   },
   "file_extension": ".py",
   "mimetype": "text/x-python",
   "name": "python",
   "nbconvert_exporter": "python",
   "pygments_lexer": "ipython3",
   "version": "3.8.10"
  }
 },
 "nbformat": 4,
 "nbformat_minor": 1
}
